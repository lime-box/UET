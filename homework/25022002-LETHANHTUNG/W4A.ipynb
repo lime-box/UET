{
 "cells": [
  {
   "cell_type": "markdown",
   "id": "039259e0-2fa0-43af-bfc8-91a209d5f9f1",
   "metadata": {},
   "source": [
    "<h1>W4A1</h1>"
   ]
  },
  {
   "cell_type": "code",
   "execution_count": 4,
   "id": "7aada23b-177d-4e0e-ae92-6653a55fd492",
   "metadata": {},
   "outputs": [
    {
     "name": "stdin",
     "output_type": "stream",
     "text": [
      "Nhập số nguyên dương n (n <= 1000): 1000\n"
     ]
    },
    {
     "name": "stdout",
     "output_type": "stream",
     "text": [
      "500500\n"
     ]
    }
   ],
   "source": [
    "try:\n",
    "    n = int(input(\"Nhập số nguyên dương n (n <= 1000):\"))\n",
    "    if(n <= 0):\n",
    "        raise ValueError\n",
    "    if(n > 1000):\n",
    "        raise TypeError\n",
    "    c = 0\n",
    "    for i in range(1, n+1):\n",
    "        c += i\n",
    "    print(c)\n",
    "except TypeError:\n",
    "    print(\"n phải nhỏ hơn hoặc bằng 1000\")\n",
    "except:\n",
    "    print(\"n phải là số nguyên dương\")"
   ]
  },
  {
   "cell_type": "markdown",
   "id": "5a3388b6-dc5a-4a3a-b48d-8cd9cc868f87",
   "metadata": {},
   "source": [
    "<h1>W4A2</h1>"
   ]
  },
  {
   "cell_type": "code",
   "execution_count": 11,
   "id": "c796510a-3422-46c1-a520-9b3f084702e9",
   "metadata": {},
   "outputs": [
    {
     "name": "stdin",
     "output_type": "stream",
     "text": [
      "Nhập số nguyên dương: 47\n"
     ]
    },
    {
     "name": "stdout",
     "output_type": "stream",
     "text": [
      "Số nguyên tố\n"
     ]
    }
   ],
   "source": [
    "while True:\n",
    "    try:\n",
    "        n = int(input(\"Nhập số nguyên dương:\"))\n",
    "        if(n <= 0):\n",
    "            raise ValueError\n",
    "        else:\n",
    "            if(n == 1):\n",
    "                print(\"Không phải số nguyên tố\")\n",
    "            elif(n == 2):\n",
    "                print(\"Số nguyên tố\")\n",
    "            else:\n",
    "                for i in range(2, int(n**.5//1)+1):\n",
    "                    if(n%i == 0):\n",
    "                        print(\"Không phải số nguyên tố\")\n",
    "                        break\n",
    "                    if(i == n**.5//1):\n",
    "                        print(\"Số nguyên tố\")\n",
    "                break\n",
    "            break\n",
    "    except ValueError:\n",
    "        print(\"Phải nhập số nguyên dương\")"
   ]
  },
  {
   "cell_type": "markdown",
   "id": "39e38be2-0dc5-4ca6-bbbf-cb382b201043",
   "metadata": {},
   "source": [
    "<h1>W4A3</h1>"
   ]
  },
  {
   "cell_type": "code",
   "execution_count": 18,
   "id": "7fc090b1-7028-40b6-a66b-2e1553846b67",
   "metadata": {},
   "outputs": [
    {
     "name": "stdin",
     "output_type": "stream",
     "text": [
      "Nhập số nguyên dương n (n < 100): 99\n"
     ]
    },
    {
     "name": "stdout",
     "output_type": "stream",
     "text": [
      "933262154439441526816992388562667004907159682643816214685929638952175999932299156089414639761565182862536979208272237582511852109168640000000000000000000000\n"
     ]
    }
   ],
   "source": [
    "try:\n",
    "    n = int(input(\"Nhập số nguyên dương n (n < 100):\"))\n",
    "    if(n <= 0):\n",
    "        raise ValueError\n",
    "    if(n >= 100):\n",
    "        raise TypeError\n",
    "    c = 1\n",
    "    for i in range(1, n+1):\n",
    "        c *= i\n",
    "    print(c)\n",
    "except TypeError:\n",
    "    print(\"n phải nhỏ hơn 100\")\n",
    "except:\n",
    "    print(\"n phải là số nguyên dương\")"
   ]
  },
  {
   "cell_type": "markdown",
   "id": "53cf2c8f-aca6-43f8-9ba1-ccf042e185ac",
   "metadata": {},
   "source": [
    "<h1>W4A4</h1>"
   ]
  },
  {
   "cell_type": "code",
   "execution_count": 3,
   "id": "8cb72edd-cbfc-493a-8316-5c2f9c94bb29",
   "metadata": {},
   "outputs": [
    {
     "name": "stdin",
     "output_type": "stream",
     "text": [
      "Nhập số nguyên n: -2056\n"
     ]
    },
    {
     "name": "stdout",
     "output_type": "stream",
     "text": [
      "4\n"
     ]
    }
   ],
   "source": [
    "try:\n",
    "    n = int(input(\"Nhập số nguyên n:\"))\n",
    "    n = abs(n)\n",
    "    k = 0\n",
    "    while n/10**k>1:\n",
    "        k += 1\n",
    "    print(k)\n",
    "except:\n",
    "    print(\"n phải là số nguyên\")"
   ]
  },
  {
   "cell_type": "markdown",
   "id": "920049a2-906f-4cc0-af5d-a12e2b3d2fb1",
   "metadata": {},
   "source": [
    "<h1>W4A5</h1>"
   ]
  },
  {
   "cell_type": "code",
   "execution_count": 6,
   "id": "5f4e9dc3-c8c1-4ceb-bc9c-2f57a595c78e",
   "metadata": {},
   "outputs": [
    {
     "name": "stdin",
     "output_type": "stream",
     "text": [
      "Nhập số nguyên dương n: 5\n",
      "Nhập dãy số gồm 5 số nguyên (còn 5 số): 3\n",
      "Nhập dãy số gồm 5 số nguyên (còn 4 số): 5\n",
      "Nhập dãy số gồm 5 số nguyên (còn 3 số): 2\n",
      "Nhập dãy số gồm 5 số nguyên (còn 2 số): 42\n",
      "Nhập dãy số gồm 5 số nguyên (còn 1 số): 5\n"
     ]
    },
    {
     "name": "stdout",
     "output_type": "stream",
     "text": [
      "I've found the meaning of life!\n"
     ]
    }
   ],
   "source": [
    "try:\n",
    "    n = int(input(\"Nhập số nguyên dương n:\"))\n",
    "    if(n <= 0):\n",
    "        raise\n",
    "    c = 0\n",
    "    for i in range(n):\n",
    "        if(input(f\"Nhập dãy số gồm {n} số nguyên (còn {n-i} số):\") == \"42\"):\n",
    "            c = 1\n",
    "    if(c):\n",
    "        print(\"I've found the meaning of life!\")\n",
    "    else:\n",
    "        print(\"It's a joke!\")\n",
    "except:\n",
    "    print(\"n phải là số nguyên dương\")"
   ]
  },
  {
   "cell_type": "markdown",
   "id": "b2bfde8c-d6d2-4759-8fdf-1765cf608a84",
   "metadata": {},
   "source": [
    "<h1>W4A6</h1>"
   ]
  },
  {
   "cell_type": "code",
   "execution_count": 12,
   "id": "779cdc22-0b35-460d-bd07-99f6010058ba",
   "metadata": {},
   "outputs": [
    {
     "name": "stdin",
     "output_type": "stream",
     "text": [
      "Nhập 2 số nguyên dương a, b (a <= b): 2 118\n"
     ]
    },
    {
     "name": "stdout",
     "output_type": "stream",
     "text": [
      "1593\n"
     ]
    }
   ],
   "source": [
    "def prime(n):\n",
    "    if(n == 1):\n",
    "        return 0\n",
    "    elif(n == 2):\n",
    "        return 1\n",
    "    else:\n",
    "        for i in range(2, int(n**.5//1)+1):\n",
    "            if(n%i == 0):\n",
    "                return 0\n",
    "        return 1\n",
    "\n",
    "try:\n",
    "    a, b = map(int, input(\"Nhập 2 số nguyên dương a, b (a <= b):\").split())\n",
    "    if(a <= 0 or b <= 0):\n",
    "        raise ValueError\n",
    "    if(a > b):\n",
    "        raise TypeError\n",
    "    c = 0\n",
    "    for i in range(a, b+1):\n",
    "        if(prime(i)):\n",
    "            c += i\n",
    "    print(c)\n",
    "    \n",
    "except ValueError:\n",
    "    print(\"a, b phải là số nguyên dương\")\n",
    "except TypeError:\n",
    "    print(\"a phải nhỏ hơn hoặc bằng b\")"
   ]
  },
  {
   "cell_type": "markdown",
   "id": "b56e4fa9-bd4b-4925-813e-40f0ca2a151d",
   "metadata": {},
   "source": [
    "<h1>W4A7</h1>"
   ]
  },
  {
   "cell_type": "code",
   "execution_count": 22,
   "id": "4efe9944-4dd6-47d6-96e9-a4b653f64996",
   "metadata": {},
   "outputs": [
    {
     "name": "stdin",
     "output_type": "stream",
     "text": [
      "Nhập số nguyên dương n (n >= 2): 219381\n"
     ]
    },
    {
     "name": "stdout",
     "output_type": "stream",
     "text": [
      "73127\n"
     ]
    }
   ],
   "source": [
    "try:\n",
    "    n = int(input(\"Nhập số nguyên dương n (n >= 2):\"))\n",
    "    if(n < 2):\n",
    "        raise\n",
    "    c, k = n, n\n",
    "    while(c > 1):\n",
    "        for i in range(2, c+1):\n",
    "            if(c%i == 0):\n",
    "                c, k = c//i, c\n",
    "                break\n",
    "    print(k)\n",
    "\n",
    "except:\n",
    "    print(\"n phải là số nguyên lớn hơn hoặc bằng 2\")"
   ]
  },
  {
   "cell_type": "markdown",
   "id": "abcb9545-dbfc-4a94-a9b1-6bef6daca909",
   "metadata": {},
   "source": [
    "<h1>W4A8</h1>"
   ]
  },
  {
   "cell_type": "code",
   "execution_count": 13,
   "id": "19f82d6f-76fb-4b93-abe6-a674d75b8b0e",
   "metadata": {},
   "outputs": [
    {
     "name": "stdin",
     "output_type": "stream",
     "text": [
      "Nhập số nguyên dương n: 102935\n"
     ]
    },
    {
     "name": "stdout",
     "output_type": "stream",
     "text": [
      "Số đối xứng: 167565761 \n",
      "Bước: 8\n"
     ]
    }
   ],
   "source": [
    "try:\n",
    "    n = input(\"Nhập số nguyên dương n:\")\n",
    "    if(int(n) <= 0):\n",
    "        raise\n",
    "    c = 0\n",
    "    while(n != n[::-1]):\n",
    "        c += 1\n",
    "        n = str(int(n) + int(n[::-1]))\n",
    "    print(\"Số đối xứng:\", n, \"\\n\" + \"Bước:\", c)\n",
    "    \n",
    "except:\n",
    "    print(\"n phải là số nguyên lớn hơn hoặc bằng 2\")"
   ]
  },
  {
   "cell_type": "markdown",
   "id": "bae83925-a993-48f6-934e-18073aa3c075",
   "metadata": {},
   "source": [
    "<h1>W4A9</h1>"
   ]
  },
  {
   "cell_type": "code",
   "execution_count": 27,
   "id": "8c0cefca-410a-4270-9290-c48628396eb1",
   "metadata": {},
   "outputs": [
    {
     "name": "stdin",
     "output_type": "stream",
     "text": [
      "Nhập số nguyên dương n: 10000\n"
     ]
    },
    {
     "name": "stdout",
     "output_type": "stream",
     "text": [
      "0 1 4 9 16 25 36 49 64 81 169 196 256 289 324 361 529 576 625 729 784 841 961 1024 1089 1296 1369 1764 1849 1936 2304 2401 2601 2704 2809 2916 3025 3249 3481 3721 4096 4356 4761 5041 5184 5329 5476 6084 6241 6724 7056 7396 7569 7921 8649 9025 9216 9604 9801 "
     ]
    }
   ],
   "source": [
    "def same(n):\n",
    "    for i in range(len(n)):\n",
    "        for k in range(i+1, len(n)):\n",
    "            if(n[k] == n[i]):\n",
    "                return 1\n",
    "    return 0\n",
    "\n",
    "try:\n",
    "    n = int(input(\"Nhập số nguyên dương n:\"))\n",
    "    if(n <= 0):\n",
    "        raise\n",
    "    c = 0\n",
    "    for i in range(int(n**.5//1)+1):\n",
    "        a = str(i**2)\n",
    "        if(not same(a)):\n",
    "            print(a, end = \" \")\n",
    "            c = 1\n",
    "    if(not c):\n",
    "        print(\"No number\")\n",
    "    \n",
    "except:\n",
    "    print(\"n phải là số nguyên lớn hơn hoặc bằng 2\")"
   ]
  },
  {
   "cell_type": "markdown",
   "id": "95296e67-c29c-4a7e-b846-8b55ce80513b",
   "metadata": {},
   "source": [
    "<h1>W4A10</h1>"
   ]
  },
  {
   "cell_type": "code",
   "execution_count": 34,
   "id": "7342752f-0d69-4502-b380-d3ed4cfd3768",
   "metadata": {},
   "outputs": [
    {
     "name": "stdin",
     "output_type": "stream",
     "text": [
      "Nhập số nguyên dương n: 27\n"
     ]
    },
    {
     "name": "stdout",
     "output_type": "stream",
     "text": [
      "27 111\n"
     ]
    }
   ],
   "source": [
    "try:\n",
    "    n = int(input(\"Nhập số nguyên dương n:\"))\n",
    "    if(n <= 0):\n",
    "        raise\n",
    "    x, L = 0, 0\n",
    "    for i in range(1, n+1):\n",
    "        k, c = i, 0\n",
    "        while(k != 1):\n",
    "            c += 1\n",
    "            if(k%2 == 0):\n",
    "                k = k//2\n",
    "            else:\n",
    "                k = k*3 + 1\n",
    "        if(c > L):\n",
    "            x, L = i, c\n",
    "    print(x, L)\n",
    "\n",
    "except:\n",
    "    print(\"n phải là số nguyên dương\")"
   ]
  },
  {
   "cell_type": "markdown",
   "id": "d1e320c6-038d-437a-b8e1-9763dc5bdd1d",
   "metadata": {},
   "source": [
    "<h1>W4A11</h1>"
   ]
  },
  {
   "cell_type": "code",
   "execution_count": 41,
   "id": "3521a5a7-fe52-4780-a77b-ff1707e22ffa",
   "metadata": {},
   "outputs": [
    {
     "name": "stdin",
     "output_type": "stream",
     "text": [
      "Nhập số nguyên dương n: 12418\n"
     ]
    },
    {
     "name": "stdout",
     "output_type": "stream",
     "text": [
      "4\n"
     ]
    }
   ],
   "source": [
    "try:\n",
    "    n = int(input(\"Nhập số nguyên dương n:\"))\n",
    "    if(n <= 0):\n",
    "        raise ValueError\n",
    "    if(n >= 10**6):\n",
    "        raise TypeError\n",
    "    c = 0\n",
    "    for i in range(1, n+1):\n",
    "        if(n%i == 0 and i%2 == 0):\n",
    "            c += 1\n",
    "    print(c)\n",
    "except ValueError:\n",
    "    print(\"n phải là số nguyên dương\")\n",
    "except TypeError:\n",
    "    print(\"n phải nhỏ hơn 10^6\")"
   ]
  },
  {
   "cell_type": "markdown",
   "id": "9a00a568-96fa-4ad6-919a-d94289c75fbc",
   "metadata": {},
   "source": [
    "<h1>W4A12</h1>"
   ]
  },
  {
   "cell_type": "code",
   "execution_count": 43,
   "id": "9e48e2b6-183c-4f13-9e27-d7dfc05dd3f1",
   "metadata": {},
   "outputs": [
    {
     "name": "stdin",
     "output_type": "stream",
     "text": [
      "Số tiền X gửi: 1000000\n",
      "Gửi trong N tháng: 12\n"
     ]
    },
    {
     "name": "stdout",
     "output_type": "stream",
     "text": [
      "1087310\n"
     ]
    }
   ],
   "source": [
    "try:\n",
    "    x = int(input(\"Số tiền X gửi:\"))\n",
    "    n = int(input(\"Gửi trong N tháng:\"))\n",
    "    if(x <= 0 or n <= 0):\n",
    "        raise\n",
    "    for i in range(n):\n",
    "        x *= 1.007\n",
    "    print(int(x//1))\n",
    "except:\n",
    "    print(\"X, N phải là số nguyên dương\")"
   ]
  },
  {
   "cell_type": "markdown",
   "id": "4ee8c1c9-74ac-40f7-870e-c7e53588f80f",
   "metadata": {},
   "source": [
    "<h1>W4A13</h1>"
   ]
  },
  {
   "cell_type": "code",
   "execution_count": 49,
   "id": "8999e6fa-caa7-49d7-8df1-24ddcf991dba",
   "metadata": {},
   "outputs": [
    {
     "name": "stdin",
     "output_type": "stream",
     "text": [
      "Nhập 2 số nguyên dương a, b: 220 284\n"
     ]
    },
    {
     "name": "stdout",
     "output_type": "stream",
     "text": [
      "true\n"
     ]
    }
   ],
   "source": [
    "def dividend(n):\n",
    "    c = 0\n",
    "    for i in range(1, n//2+1):\n",
    "        if(n%i == 0):\n",
    "            c += i\n",
    "    return c \n",
    "\n",
    "try:\n",
    "    a, b = map(int, input(\"Nhập 2 số nguyên dương a, b:\").split())\n",
    "    if(a <= 0 or b <= 0):\n",
    "        raise\n",
    "    if(dividend(a) == b and dividend(b) == a):\n",
    "        print(\"true\")\n",
    "    else:\n",
    "        print(\"false\")\n",
    "        \n",
    "except:\n",
    "    print(\"a, b phải là số nguyên dương\")"
   ]
  },
  {
   "cell_type": "markdown",
   "id": "27a1f007-c839-4178-b58a-df0a4cb8b351",
   "metadata": {},
   "source": [
    "<h1>W4A14</h1>"
   ]
  },
  {
   "cell_type": "code",
   "execution_count": 55,
   "id": "f1e6a1f1-00ee-4a45-be6d-707308f9c319",
   "metadata": {},
   "outputs": [
    {
     "name": "stdin",
     "output_type": "stream",
     "text": [
      "Nhập 2 số nguyên dương m, n: 64 256\n"
     ]
    },
    {
     "name": "stdout",
     "output_type": "stream",
     "text": [
      "1 2 4 8 16 32 64 "
     ]
    }
   ],
   "source": [
    "try:\n",
    "    m, n = map(int, input(\"Nhập 2 số nguyên dương m, n:\").split())\n",
    "    if(m <= 0 or n <= 0):\n",
    "        raise\n",
    "    if(n > m):\n",
    "        m, n = n, m\n",
    "    for i in range(1, n+1):\n",
    "        if(m%i == 0 and n%i == 0):\n",
    "            print(i, end=\" \")    \n",
    "except:\n",
    "    print(\"m, n phải là số nguyên dương\")"
   ]
  },
  {
   "cell_type": "markdown",
   "id": "3a073043-c3b9-46b8-839d-fea5c928209a",
   "metadata": {},
   "source": [
    "<h1>W4A15</h1>"
   ]
  },
  {
   "cell_type": "code",
   "execution_count": 60,
   "id": "fbf9ea87-6fa3-4859-867e-476dd742ed9c",
   "metadata": {},
   "outputs": [
    {
     "name": "stdin",
     "output_type": "stream",
     "text": [
      "Tổng số gà và chó: 36\n",
      "Tổng số chân gà và chân chó: 100\n"
     ]
    },
    {
     "name": "stdout",
     "output_type": "stream",
     "text": [
      "22 gà, 14 chó\n"
     ]
    }
   ],
   "source": [
    "try:\n",
    "    a = int(input(\"Tổng số gà và chó:\"))\n",
    "    b = int(input(\"Tổng số chân gà và chân chó:\"))\n",
    "    if(a <= 0 and b <= 0):\n",
    "        raise\n",
    "    #x là số gà, y là số chó  \n",
    "    x = (a*4 - b)/2\n",
    "    y = (b - a*2)/2\n",
    "    if(x//1 == x and y//1 == y):\n",
    "        print(int(x), \"gà,\", int(y), \"chó\")\n",
    "    else:\n",
    "        print(\"invalid\")\n",
    "except:\n",
    "    print(\"Số con và số chân phải là số nguyên dương\")"
   ]
  }
 ],
 "metadata": {
  "kernelspec": {
   "display_name": "Python 3 (ipykernel)",
   "language": "python",
   "name": "python3"
  },
  "language_info": {
   "codemirror_mode": {
    "name": "ipython",
    "version": 3
   },
   "file_extension": ".py",
   "mimetype": "text/x-python",
   "name": "python",
   "nbconvert_exporter": "python",
   "pygments_lexer": "ipython3",
   "version": "3.13.7"
  }
 },
 "nbformat": 4,
 "nbformat_minor": 5
}
