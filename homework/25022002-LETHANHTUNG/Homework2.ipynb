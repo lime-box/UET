{
 "cells": [
  {
   "cell_type": "markdown",
   "id": "4a9fa09f-a329-4d1e-a2f5-950a84b0950e",
   "metadata": {},
   "source": [
    "<h1>Bài 1</h1>"
   ]
  },
  {
   "cell_type": "code",
   "execution_count": 23,
   "id": "dd4b289f-7994-4764-a011-321054d72f93",
   "metadata": {},
   "outputs": [
    {
     "name": "stdin",
     "output_type": "stream",
     "text": [
      "Nhập 2 cạnh của hình chữ nhật: -1 2\n"
     ]
    },
    {
     "name": "stdout",
     "output_type": "stream",
     "text": [
      "2 cạnh hình chữ nhật phải là 2 số dương\n"
     ]
    }
   ],
   "source": [
    "try:\n",
    "    a, b = map(float, input(\"Nhập 2 cạnh của hình chữ nhật:\").split())\n",
    "    if(a<=0 or b<=0):\n",
    "        raise\n",
    "    print(\"Diện tích:\", a*b)\n",
    "    print(\"Chu vi:\", 2*(a+b))\n",
    "except:\n",
    "    print(\"2 cạnh hình chữ nhật phải là 2 số dương\")"
   ]
  },
  {
   "cell_type": "markdown",
   "id": "5c63b144-677b-441e-a672-aa94ea7f0919",
   "metadata": {},
   "source": [
    "<h1>Bài 2</h1>"
   ]
  },
  {
   "cell_type": "code",
   "execution_count": 22,
   "id": "b4dae3e7-5890-423c-a215-55dda022ad45",
   "metadata": {},
   "outputs": [
    {
     "name": "stdin",
     "output_type": "stream",
     "text": [
      "Nhập bán kính hình tròn: -1\n"
     ]
    },
    {
     "name": "stdout",
     "output_type": "stream",
     "text": [
      "Bán kính hình tròn phải là số dương\n"
     ]
    }
   ],
   "source": [
    "import math\n",
    "try:\n",
    "    n = float(input(\"Nhập bán kính hình tròn:\"))\n",
    "    pi = math.pi\n",
    "    if(n<=0):\n",
    "        raise\n",
    "    print(\"Diện tích:\", n**2*pi)\n",
    "    print(\"Chu vi:\", 2*n*pi)\n",
    "except:\n",
    "    print(\"Bán kính hình tròn phải là số dương\")"
   ]
  },
  {
   "cell_type": "markdown",
   "id": "3179ba94-85da-4b1d-8432-922aeb8429af",
   "metadata": {},
   "source": [
    "<h1>Bài 3</h1>"
   ]
  },
  {
   "cell_type": "code",
   "execution_count": 26,
   "id": "63b590d4-88a7-4de0-9115-5285c6cbade3",
   "metadata": {},
   "outputs": [
    {
     "name": "stdin",
     "output_type": "stream",
     "text": [
      "Nhập 3 số a, b, c: 2 2 3\n"
     ]
    },
    {
     "name": "stdout",
     "output_type": "stream",
     "text": [
      "Tam giác cân\n",
      "Diện tích: 1.984313483298443\n",
      "Chu vi: 7.0\n"
     ]
    }
   ],
   "source": [
    "try:\n",
    "    A = list(map(float, input(\"Nhập 3 số a, b, c:\").split()))\n",
    "    A.sort()\n",
    "    a, b, c = A[0], A[1], A[2]\n",
    "    if(c >= a+b or a <= 0):\n",
    "        print(\"Không phải tam giác\")\n",
    "    else:\n",
    "        n = \"\"\n",
    "        if(a == b == c):\n",
    "            print(\"Tam giác đều\")\n",
    "        else:\n",
    "            if(a**2 + b**2 == c**2):\n",
    "                n += \"vuông \"\n",
    "            if(a == b or b == c):\n",
    "                n += \"cân\"\n",
    "            if(n == \"\"):\n",
    "                print(\"Tam giác thường\")\n",
    "            else:\n",
    "                print(\"Tam giác\", n)\n",
    "        p = (a+b+c)/2\n",
    "        print(\"Diện tích:\", (p*(p-a)*(p-b)*(p-c))**.5)\n",
    "        print(\"Chu vi:\", a+b+c)\n",
    "except:\n",
    "    print(\"a, b, c phải là số\")"
   ]
  },
  {
   "cell_type": "markdown",
   "id": "7e77022d-fb89-4af5-8d80-41e2179e0272",
   "metadata": {},
   "source": [
    "<h1>Bài 4</h1>"
   ]
  },
  {
   "cell_type": "code",
   "execution_count": 30,
   "id": "6cf75432-7b48-409f-82f6-fbf5147913b4",
   "metadata": {},
   "outputs": [
    {
     "name": "stdin",
     "output_type": "stream",
     "text": [
      "Nhập 2 số thực a, b: 7 6\n"
     ]
    },
    {
     "name": "stdout",
     "output_type": "stream",
     "text": [
      "x = -0.8571428571428571\n"
     ]
    }
   ],
   "source": [
    "try:\n",
    "    a, b = map(float, input(\"Nhập 2 số thực a, b:\").split())\n",
    "    if(a == 0):\n",
    "        if(b == 0):\n",
    "            print(\"Vô số nghiệm\")\n",
    "        else:\n",
    "            print(\"Vô nghiệm\")\n",
    "    else:\n",
    "        print(f\"x = {-b/a}\")\n",
    "except:\n",
    "    print(\"a, b phải là số thực\")"
   ]
  },
  {
   "cell_type": "markdown",
   "id": "e64a26c0-d801-4c1f-95f6-86933af35bf3",
   "metadata": {},
   "source": [
    "<h1>Bài 5</h1>"
   ]
  },
  {
   "cell_type": "code",
   "execution_count": 43,
   "id": "e276ea23-3938-4306-8456-2449571d5861",
   "metadata": {},
   "outputs": [
    {
     "name": "stdin",
     "output_type": "stream",
     "text": [
      "Nhập 3 số thực a, b, c: 1 -2 0\n"
     ]
    },
    {
     "name": "stdout",
     "output_type": "stream",
     "text": [
      "x = 3.0\n",
      "x = 1.0\n"
     ]
    }
   ],
   "source": [
    "try:\n",
    "    a, b, c = map(float, input(\"Nhập 3 số thực a, b, c:\").split())\n",
    "    if(a == 0):\n",
    "        if(b == 0):\n",
    "            if(c == 0):\n",
    "                print(\"Vô số nghiệm\")\n",
    "            else:\n",
    "                print(\"Vô nghiệm\")\n",
    "        else:\n",
    "            print(f\"x = {-c/b}\")\n",
    "    else:\n",
    "        delta = b**2 - 4*a*c\n",
    "        if(delta < 0):\n",
    "            print(\"Vô nghiệm\")\n",
    "        elif(delta == 0):\n",
    "            print(f\"x = {-b/(2*a)}\")\n",
    "        else:\n",
    "            print(f\"x = {-b+delta**.5/(2*a)}\")\n",
    "            print(f\"x = {-b-delta**.5/(2*a)}\")\n",
    "except:\n",
    "    print(\"a, b, c phải là số thực\")"
   ]
  },
  {
   "cell_type": "markdown",
   "id": "c9d36e7d-94f3-49a5-9c85-1288050ad19c",
   "metadata": {},
   "source": [
    "<h1>Bài 6</h1>"
   ]
  },
  {
   "cell_type": "code",
   "execution_count": 46,
   "id": "71dd5f90-8964-4a78-8bd6-928ba10148e2",
   "metadata": {},
   "outputs": [
    {
     "name": "stdin",
     "output_type": "stream",
     "text": [
      "Nhập 4 số thực: 2 5 6 -1\n"
     ]
    },
    {
     "name": "stdout",
     "output_type": "stream",
     "text": [
      "Số lớn nhất là: 6.0\n"
     ]
    }
   ],
   "source": [
    "try:\n",
    "    A = list(map(float, input(\"Nhập 4 số thực:\").split()))\n",
    "    A.sort()\n",
    "    print(\"Số lớn nhất là:\", A[-1])\n",
    "except:\n",
    "    print(\"Chỉ so sánh được số thực\")"
   ]
  },
  {
   "cell_type": "markdown",
   "id": "26256cb3-b243-433e-976a-526a7d3aa612",
   "metadata": {},
   "source": [
    "<h1>Bài 7</h1>"
   ]
  },
  {
   "cell_type": "code",
   "execution_count": 45,
   "id": "5b0699ac-94ea-4c2f-98a8-d4e09a8953ef",
   "metadata": {},
   "outputs": [
    {
     "name": "stdin",
     "output_type": "stream",
     "text": [
      "Nhập 4 số thực: 2 8 0 -2\n"
     ]
    },
    {
     "name": "stdout",
     "output_type": "stream",
     "text": [
      "Số nhỏ nhất là: -2.0\n"
     ]
    }
   ],
   "source": [
    "try:\n",
    "    A = list(map(float, input(\"Nhập 4 số thực:\").split()))\n",
    "    A.sort()\n",
    "    print(\"Số nhỏ nhất là:\", A[0])\n",
    "except:\n",
    "    print(\"Chỉ so sánh được số thực\")"
   ]
  },
  {
   "cell_type": "markdown",
   "id": "365934b7-846c-484a-8d9f-59e456f324a9",
   "metadata": {},
   "source": [
    "<h1>Bài 8</h1>"
   ]
  },
  {
   "cell_type": "code",
   "execution_count": 56,
   "id": "be0ae7f6-a0c7-46a0-9250-2c2213f29584",
   "metadata": {},
   "outputs": [
    {
     "name": "stdin",
     "output_type": "stream",
     "text": [
      "Nhập số thực a, b, m: 3 4 5\n",
      "Nhập số thực c, d, n: 2 3 4\n"
     ]
    },
    {
     "name": "stdout",
     "output_type": "stream",
     "text": [
      "x = -1.0\n",
      "y = 2.0\n"
     ]
    }
   ],
   "source": [
    "try:\n",
    "    a, b, m = map(float, input(\"Nhập số thực a, b, m:\").split())\n",
    "    c, d, n = map(float, input(\"Nhập số thực c, d, n:\").split())\n",
    "    if(a/c == b/d == m/n):\n",
    "        print(\"Hệ vô số nghiệm\")\n",
    "    elif(a/c == b/d != m/n):\n",
    "        print(\"Hệ vô nghiệm\")\n",
    "    else:\n",
    "        print(\"x =\", (m*d - b*n)/(a*d - b*c))\n",
    "        print(\"y =\", (a*n - m*c)/(a*d - b*c))\n",
    "except:\n",
    "    print(\"a, b, c, d, m, n phải là số thực\")"
   ]
  },
  {
   "cell_type": "markdown",
   "id": "025a3293-ccdd-4b20-9086-e7a6ac27dade",
   "metadata": {},
   "source": [
    "<h1>Bài 9</h1>"
   ]
  },
  {
   "cell_type": "code",
   "execution_count": 60,
   "id": "f1bf4370-85ff-4f3b-af7f-5c9d166423a9",
   "metadata": {},
   "outputs": [
    {
     "name": "stdin",
     "output_type": "stream",
     "text": [
      "Nhập số giây: 3719\n"
     ]
    },
    {
     "name": "stdout",
     "output_type": "stream",
     "text": [
      "1 giờ 1 phút 59 giây\n"
     ]
    }
   ],
   "source": [
    "try:\n",
    "    n = int(input(\"Nhập số giây:\"))\n",
    "    if(n < 0):\n",
    "        raise\n",
    "    print(n//3600, \"giờ\", (n%3600)//60, \"phút\", n%60, \"giây\")\n",
    "except:\n",
    "    print(\"Số giây phải là số nguyên dương\")"
   ]
  },
  {
   "cell_type": "markdown",
   "id": "709df5ca-3556-4ccd-a599-a0294e298d84",
   "metadata": {},
   "source": [
    "<h1>Bài 10</h1>"
   ]
  },
  {
   "cell_type": "code",
   "execution_count": 75,
   "id": "d3cad3de-b0d6-4373-9010-3672d26aa73b",
   "metadata": {},
   "outputs": [
    {
     "name": "stdin",
     "output_type": "stream",
     "text": [
      "Nhập tọa độ tâm đường tròn: 0 0\n",
      "Nhập bán kính đường tròn: 9\n",
      "Nhập tọa độ điểm A đường tròn: 1 0\n"
     ]
    },
    {
     "name": "stdout",
     "output_type": "stream",
     "text": [
      "Điểm A nằm trong đường tròn\n"
     ]
    }
   ],
   "source": [
    "try:\n",
    "    Ix, Iy = map(float, input(\"Nhập tọa độ tâm đường tròn:\").split())\n",
    "    r = float(input(\"Nhập bán kính đường tròn:\"))\n",
    "    if(r <= 0):\n",
    "        raise TypeError\n",
    "    Ax, Ay = map(float, input(\"Nhập tọa độ điểm A đường tròn:\").split())\n",
    "    if(abs(Ax - Ix)**2 + abs(Ay - Iy)**2 == r**2):\n",
    "        print(\"Điểm A thuộc đường tròn\")\n",
    "    elif(abs(Ax - Ix)**2 + abs(Ay - Iy)**2 < r**2):\n",
    "        print(\"Điểm A nằm trong đường tròn\")\n",
    "    else:\n",
    "        print(\"Điểm A nằm ngoài đường tròn\")\n",
    "except ValueError:\n",
    "    print(\"Tọa độ/Bán kính phải là số thực\")\n",
    "except TypeError:\n",
    "    print(\"Bán kính phải là số thực dương\")"
   ]
  },
  {
   "cell_type": "markdown",
   "id": "3b3ebed4-a18b-4433-b522-819055f49dc6",
   "metadata": {},
   "source": [
    "<h1>Bài 11</h1>"
   ]
  },
  {
   "cell_type": "code",
   "execution_count": 77,
   "id": "f5036c14-fa02-4785-a907-a8805429c596",
   "metadata": {},
   "outputs": [
    {
     "name": "stdin",
     "output_type": "stream",
     "text": [
      "Nhập số thực x, y 4 5\n"
     ]
    },
    {
     "name": "stdout",
     "output_type": "stream",
     "text": [
      "4.0^5.0 = 1024.0\n"
     ]
    }
   ],
   "source": [
    "try:\n",
    "    x, y = map(float, input(\"Nhập số thực x, y\").split())\n",
    "    print(f\"{x}^{y} = {x**y}\")\n",
    "except:\n",
    "    print(\"x, y phải là số thực\")"
   ]
  }
 ],
 "metadata": {
  "kernelspec": {
   "display_name": "Python 3 (ipykernel)",
   "language": "python",
   "name": "python3"
  },
  "language_info": {
   "codemirror_mode": {
    "name": "ipython",
    "version": 3
   },
   "file_extension": ".py",
   "mimetype": "text/x-python",
   "name": "python",
   "nbconvert_exporter": "python",
   "pygments_lexer": "ipython3",
   "version": "3.13.7"
  }
 },
 "nbformat": 4,
 "nbformat_minor": 5
}
