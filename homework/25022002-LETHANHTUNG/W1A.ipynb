{
 "cells": [
  {
   "cell_type": "markdown",
   "id": "89b324a9-c8c5-4c5a-8f00-698440253cb6",
   "metadata": {},
   "source": [
    "<h1>W1A1</h1>"
   ]
  },
  {
   "cell_type": "code",
   "execution_count": 1,
   "id": "d13cff61-5d45-480a-a867-812a681cfdac",
   "metadata": {},
   "outputs": [
    {
     "name": "stdout",
     "output_type": "stream",
     "text": [
      "2\n"
     ]
    }
   ],
   "source": [
    "a = 7        # Gán giá trị 7 cho biến a\n",
    "b = 5        # Gán giá trị 5 cho biến b\n",
    "c = a - b    # Thực hiện phép trừ a - b (7 - 5) và gán kết quả cho biến c\n",
    "print(c)     # In ra giá trị của biến c (kết quả là 2)"
   ]
  },
  {
   "cell_type": "markdown",
   "id": "50126a41-1a1b-42d4-bb5e-189ac92df922",
   "metadata": {},
   "source": [
    "<h1>W1A2</h1>"
   ]
  },
  {
   "cell_type": "code",
   "execution_count": 2,
   "id": "634008a4-1ea8-4f69-9a03-c0872ad9680c",
   "metadata": {},
   "outputs": [
    {
     "name": "stdout",
     "output_type": "stream",
     "text": [
      "Thành phố:  Hà Nội  - Năm:  2025\n"
     ]
    }
   ],
   "source": [
    "city = \"Hà Nội\"                  # Gán chuỗi \"Hà Nội\" cho biến city\n",
    "year = 2025                      # Gán số nguyên 2025 cho biến year\n",
    "print(\"Thành phố: \", city, \" - Năm: \", year)  \n",
    "# In ra màn hình chuỗi \"Thành phố: \", giá trị biến city, \n",
    "# sau đó là chuỗi \" - Năm: \", và cuối cùng là giá trị biến year"
   ]
  },
  {
   "cell_type": "markdown",
   "id": "917bf51e-f27a-47ab-9ae6-9bf78dc670bc",
   "metadata": {},
   "source": [
    "<h1>W1A3</h1>"
   ]
  },
  {
   "cell_type": "code",
   "execution_count": 3,
   "id": "3fa64cb9-cb6f-4d0d-bc03-7cdbe59eef2a",
   "metadata": {},
   "outputs": [
    {
     "name": "stdout",
     "output_type": "stream",
     "text": [
      "10\n"
     ]
    }
   ],
   "source": [
    "n = 4                   # Gán giá trị 4 cho biến n\n",
    "t = 0                   # Gán giá trị ban đầu 0 cho biến t (dùng để cộng dồn)\n",
    "for i in range(1, n+1): # Vòng lặp for chạy i từ 1 đến n (bao gồm cả n, tức là 1 → 4)\n",
    "    t += i              # Cộng giá trị i vào t (t = t + i)\n",
    "print(t)                # In ra kết quả cuối cùng của t"
   ]
  },
  {
   "cell_type": "markdown",
   "id": "605a5de6-3b8b-4346-8f8f-a847ee919fd2",
   "metadata": {},
   "source": [
    "<h1>W1A4</h1>"
   ]
  },
  {
   "cell_type": "code",
   "execution_count": 4,
   "id": "c50b0348-c0cc-4d07-b80c-b48564bca733",
   "metadata": {},
   "outputs": [
    {
     "name": "stdout",
     "output_type": "stream",
     "text": [
      "1 là số lẻ\n",
      "2 là số chẵn\n",
      "3 là số lẻ\n",
      "4 là số chẵn\n"
     ]
    }
   ],
   "source": [
    "numbers = [1, 2, 3, 4]        # Tạo danh sách numbers gồm các phần tử [1, 2, 3, 4]\n",
    "for x in numbers:             # Duyệt từng phần tử x trong danh sách numbers\n",
    "    if x % 2 == 0:            # Kiểm tra nếu x chia hết cho 2 (tức là số chẵn)\n",
    "        print(x, \"là số chẵn\")# Nếu đúng thì in ra \"x là số chẵn\"\n",
    "    else:                     # Ngược lại (không chia hết cho 2, tức là số lẻ)\n",
    "        print(x, \"là số lẻ\")  # In ra \"x là số lẻ\""
   ]
  },
  {
   "cell_type": "markdown",
   "id": "dd758810-7525-4efa-bcd9-66ae257911cf",
   "metadata": {},
   "source": [
    "<h1>W1A5</h1>"
   ]
  },
  {
   "cell_type": "code",
   "execution_count": 5,
   "id": "d33c3878-8610-4277-8493-46df1651cc50",
   "metadata": {},
   "outputs": [
    {
     "name": "stdout",
     "output_type": "stream",
     "text": [
      "Số phần tử trong danh sách là: 4\n"
     ]
    }
   ],
   "source": [
    "animals = [\"cat\", \"dog\", \"cat\", \"bird\"]   # Tạo một list gồm 4 phần tử: \"cat\", \"dog\", \"cat\", \"bird\"\n",
    "count = 0                                # Khởi tạo biến count = 0 (dùng để đếm số phần tử)\n",
    "for a in animals:                        # Duyệt từng phần tử a trong list animals\n",
    "    count += 1                           # Mỗi lần lặp, tăng count lên 1\n",
    "print(\"Số phần tử trong danh sách là:\", count)  # In ra số phần tử trong list"
   ]
  },
  {
   "cell_type": "markdown",
   "id": "117f737d-8913-4ee9-ac94-a76637b28906",
   "metadata": {},
   "source": [
    "<h1>W1A6</h1>"
   ]
  },
  {
   "cell_type": "markdown",
   "id": "eb06bf60-04d0-44b3-86ba-abcc545d9e29",
   "metadata": {},
   "source": [
    "Bạn vừa viết một menu mô phỏng hệ thống dự đoán AI. Nếu triển khai bằng Python, code mẫu sẽ như sau:"
   ]
  },
  {
   "cell_type": "code",
   "execution_count": 6,
   "id": "bd43fbc6-4a44-49b7-bcfc-de19e0fa2b2d",
   "metadata": {},
   "outputs": [
    {
     "name": "stdout",
     "output_type": "stream",
     "text": [
      "=== AI Prediction System ===\n",
      "1) Sentiment analysis\n",
      "2) Weather forecast\n",
      "3) Exit\n"
     ]
    },
    {
     "name": "stdin",
     "output_type": "stream",
     "text": [
      "Please choose an option:  2\n"
     ]
    },
    {
     "name": "stdout",
     "output_type": "stream",
     "text": [
      "Bạn đã chọn: Weather forecast (Dự báo thời tiết)\n"
     ]
    }
   ],
   "source": [
    "print(\"=== AI Prediction System ===\")\n",
    "print(\"1) Sentiment analysis\")\n",
    "print(\"2) Weather forecast\")\n",
    "print(\"3) Exit\")\n",
    "\n",
    "choice = input(\"Please choose an option: \")\n",
    "\n",
    "if choice == \"1\":\n",
    "    print(\"Bạn đã chọn: Sentiment analysis (Phân tích cảm xúc)\")\n",
    "elif choice == \"2\":\n",
    "    print(\"Bạn đã chọn: Weather forecast (Dự báo thời tiết)\")\n",
    "elif choice == \"3\":\n",
    "    print(\"Thoát chương trình.\")\n",
    "else:\n",
    "    print(\"Lựa chọn không hợp lệ, vui lòng thử lại.\")"
   ]
  },
  {
   "cell_type": "markdown",
   "id": "5184d4b6-65f0-4157-a6f4-7b682050a056",
   "metadata": {},
   "source": [
    "<h1>W1A7</h1>"
   ]
  },
  {
   "cell_type": "code",
   "execution_count": 7,
   "id": "e64b8543-0f66-40f5-9ac9-2def64bb6c9b",
   "metadata": {},
   "outputs": [
    {
     "name": "stdin",
     "output_type": "stream",
     "text": [
      "Nhập số:  2\n"
     ]
    },
    {
     "name": "stdout",
     "output_type": "stream",
     "text": [
      "Số chẵn\n"
     ]
    }
   ],
   "source": [
    "num = int(input(\"Nhập số: \"))  # Yêu cầu người dùng nhập một số, \n",
    "                               # chuyển giá trị nhập vào thành số nguyên (int) và gán cho biến num\n",
    "if num % 2 == 0:               # Kiểm tra nếu num chia hết cho 2\n",
    "    print(\"Số chẵn\")           # Nếu đúng thì in ra \"Số chẵn\"\n",
    "else:                          # Ngược lại (không chia hết cho 2)\n",
    "    print(\"Số lẻ\")             # In ra \"Số lẻ\""
   ]
  },
  {
   "cell_type": "markdown",
   "id": "0a476a2d-3739-49cd-bdae-bcfc43865fe9",
   "metadata": {},
   "source": [
    "<h1>W1A8</h1>"
   ]
  },
  {
   "cell_type": "code",
   "execution_count": 8,
   "id": "85dccfc2-387a-484c-9a50-1291a0b33a74",
   "metadata": {},
   "outputs": [
    {
     "name": "stdout",
     "output_type": "stream",
     "text": [
      "AI đang học lần: 1\n",
      "AI đang học lần: 2\n",
      "AI đang học lần: 3\n",
      "Huấn luyện xong!\n"
     ]
    }
   ],
   "source": [
    "for i in range(3):                    # Vòng lặp for chạy i từ 0 đến 2 (tổng cộng 3 lần lặp)\n",
    "    print(\"AI đang học lần:\", i + 1)  # In ra thông báo, cộng i+1 để hiển thị số lần học từ 1 → 3\n",
    "print(\"Huấn luyện xong!\")             # Sau khi vòng lặp kết thúc, in ra thông báo hoàn thành"
   ]
  },
  {
   "cell_type": "markdown",
   "id": "0188aa8c-b9d0-4000-95c4-8484fbba43ec",
   "metadata": {},
   "source": [
    "<h1>W1A9</h1>"
   ]
  },
  {
   "cell_type": "code",
   "execution_count": 9,
   "id": "1aa81c1c-637a-4bc0-9e71-c0908d630051",
   "metadata": {},
   "outputs": [
    {
     "name": "stdout",
     "output_type": "stream",
     "text": [
      "Dự đoán con vật: cat\n",
      "Dự đoán con vật: dog\n",
      "Dự đoán con vật: fish\n"
     ]
    }
   ],
   "source": [
    "for x in [\"cat\", \"dog\", \"fish\"]:       # Vòng lặp for duyệt qua từng phần tử trong danh sách [\"cat\", \"dog\", \"fish\"]\n",
    "    print(\"Dự đoán con vật:\", x)       # In ra chuỗi \"Dự đoán con vật:\" kèm theo giá trị hiện tại của x"
   ]
  },
  {
   "cell_type": "markdown",
   "id": "0e051819-5d7f-43b2-9b4d-69661cf79352",
   "metadata": {},
   "source": [
    "<h1>W1A10</h1>"
   ]
  },
  {
   "cell_type": "code",
   "execution_count": 10,
   "id": "0e3bff63-dea3-498c-b2cd-0bb3a708630b",
   "metadata": {},
   "outputs": [
    {
     "name": "stdout",
     "output_type": "stream",
     "text": [
      "=== AI Prediction System ===\n",
      "1) Sentiment analysis\n",
      "2) Weather forecast\n",
      "3) Exit\n",
      "Please choose an option\n"
     ]
    }
   ],
   "source": [
    "# Simple menu\n",
    "print(\"=== AI Prediction System ===\")  # In tiêu đề menu\n",
    "print(\"1) Sentiment analysis\")         # In tùy chọn 1\n",
    "print(\"2) Weather forecast\")           # In tùy chọn 2\n",
    "print(\"3) Exit\")                       # In tùy chọn 3\n",
    "print(\"Please choose an option\")       # In hướng dẫn chọn"
   ]
  }
 ],
 "metadata": {
  "kernelspec": {
   "display_name": "Python 3 (ipykernel)",
   "language": "python",
   "name": "python3"
  },
  "language_info": {
   "codemirror_mode": {
    "name": "ipython",
    "version": 3
   },
   "file_extension": ".py",
   "mimetype": "text/x-python",
   "name": "python",
   "nbconvert_exporter": "python",
   "pygments_lexer": "ipython3",
   "version": "3.13.7"
  }
 },
 "nbformat": 4,
 "nbformat_minor": 5
}
