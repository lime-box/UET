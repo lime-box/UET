{
 "cells": [
  {
   "cell_type": "markdown",
   "id": "5a617fbd-869e-4a2a-8ec4-3e23dcdcc434",
   "metadata": {},
   "source": [
    "<h1 style=\"font-size:30pt\">Bài tập về nhà</h1>"
   ]
  },
  {
   "cell_type": "markdown",
   "id": "00086b65-be89-4639-816c-107c13e58fb1",
   "metadata": {},
   "source": [
    "<h1>Bài 1</h1>"
   ]
  },
  {
   "cell_type": "code",
   "execution_count": 3,
   "id": "31638ce7-3f13-4313-afea-a51fbdce00ac",
   "metadata": {},
   "outputs": [
    {
     "name": "stdin",
     "output_type": "stream",
     "text": [
      "Nhập số nguyên n: 3\n"
     ]
    },
    {
     "name": "stdout",
     "output_type": "stream",
     "text": [
      "Số gấp đôi của 3: 6\n"
     ]
    }
   ],
   "source": [
    "n = int(input(\"Nhập số nguyên n:\"))\n",
    "print(f\"Số gấp đôi của {n}: {n*2}\")"
   ]
  },
  {
   "cell_type": "markdown",
   "id": "f048c2ed-789d-4084-a7f7-7ff02c7cbabe",
   "metadata": {},
   "source": [
    "<h1>Bài 2</h1>"
   ]
  },
  {
   "cell_type": "code",
   "execution_count": 14,
   "id": "85a802ea-861c-4deb-b13c-07a4be3868ff",
   "metadata": {},
   "outputs": [
    {
     "name": "stdin",
     "output_type": "stream",
     "text": [
      "Nhập chiều rộng và chiều dài: 4 5\n"
     ]
    },
    {
     "name": "stdout",
     "output_type": "stream",
     "text": [
      "Diện tích trồng cây: 7.44\n",
      "7.22\n"
     ]
    }
   ],
   "source": [
    "a, b = map(float, input(\"Nhập chiều rộng và chiều dài:\").split())\n",
    "print(f\"Diện tích trồng cây: {a*b-(a/2)**2*3.14:.2f}\")"
   ]
  },
  {
   "cell_type": "markdown",
   "id": "e640e1a5-0adc-41ed-9fb5-b18ac808d7bf",
   "metadata": {},
   "source": [
    "<h1>Bài 3</h1>"
   ]
  },
  {
   "cell_type": "code",
   "execution_count": 26,
   "id": "0a72bfa0-17a8-4b0d-a2ea-1ca0af38672d",
   "metadata": {},
   "outputs": [
    {
     "name": "stdin",
     "output_type": "stream",
     "text": [
      "Nhập 1 ký tự: 2\n"
     ]
    },
    {
     "name": "stdout",
     "output_type": "stream",
     "text": [
      "2 không nằm trong bảng chữ cái\n"
     ]
    }
   ],
   "source": [
    "c = input(\"Nhập 1 ký tự:\")\n",
    "if(65 <= ord(c) <= 90):\n",
    "    print(f\"Dạng chữ thường của {c}: {c.lower()}\")\n",
    "elif(97 <= ord(c) <= 122):\n",
    "    print(f\"Dạng chữ hoa của {c}: {c.upper()}\")\n",
    "else:\n",
    "    print(f\"{c} không nằm trong bảng chữ cái\")"
   ]
  },
  {
   "cell_type": "markdown",
   "id": "4a6dd90b-504c-4dea-b9a8-d3cffdf957eb",
   "metadata": {},
   "source": [
    "<h1>Bài 4</h1>"
   ]
  },
  {
   "cell_type": "code",
   "execution_count": 29,
   "id": "923e6a38-3caa-4ae5-930b-4831b52f673c",
   "metadata": {},
   "outputs": [
    {
     "name": "stdin",
     "output_type": "stream",
     "text": [
      "Nhập 1 ký tự: E\n"
     ]
    },
    {
     "name": "stdout",
     "output_type": "stream",
     "text": [
      "E là ký tự alphabet\n"
     ]
    }
   ],
   "source": [
    "c = input(\"Nhập 1 ký tự:\")\n",
    "if(65 <= ord(c) <= 90 or 97 <= ord(c) <= 122):\n",
    "    print(f\"{c} là ký tự alphabet\")\n",
    "else:\n",
    "    print(f\"{c} không phải ký tự alphabet\")"
   ]
  },
  {
   "cell_type": "markdown",
   "id": "77cfa08e-b408-4f8b-b70c-4d0a44be0136",
   "metadata": {},
   "source": [
    "<h1>Bài 5</h1>"
   ]
  },
  {
   "cell_type": "code",
   "execution_count": 31,
   "id": "8a9c5c59-1729-4d30-ac7f-287b2594ce01",
   "metadata": {},
   "outputs": [
    {
     "name": "stdin",
     "output_type": "stream",
     "text": [
      "Nhập 1 chữ cái hoa: R\n"
     ]
    },
    {
     "name": "stdout",
     "output_type": "stream",
     "text": [
      "Chữ cái thường nằm trước r là Q\n"
     ]
    }
   ],
   "source": [
    "c = input(\"Nhập 1 chữ cái hoa:\")\n",
    "if(65 == ord(c)):\n",
    "    print(f\"Không có chữ cái thường nào nằm trước {c.lower()}\")\n",
    "else:\n",
    "    print(f\"Chữ cái thường nằm trước {c.lower()} là {chr(ord(c)-1)}\")"
   ]
  },
  {
   "cell_type": "markdown",
   "id": "adc52730-2bf5-4f87-a2e1-e47a87bd30fc",
   "metadata": {},
   "source": [
    "<h1>Bài 6</h1>"
   ]
  },
  {
   "cell_type": "code",
   "execution_count": 49,
   "id": "8c1a5442-e501-4930-804d-b541152ec743",
   "metadata": {},
   "outputs": [
    {
     "name": "stdin",
     "output_type": "stream",
     "text": [
      "Nhập 3 số: 3 4 5\n"
     ]
    },
    {
     "name": "stdout",
     "output_type": "stream",
     "text": [
      "Diện tích tam giác: 6.0\n"
     ]
    }
   ],
   "source": [
    "a, b, c = map(float, input(\"Nhập 3 số:\").split())\n",
    "A = [a, b, c]\n",
    "A.sort()\n",
    "n = True\n",
    "for i in A:\n",
    "    if i <= 0:\n",
    "        n = False\n",
    "        break\n",
    "if(n):\n",
    "    if(A[0] + A[1] > A[2]):\n",
    "        s = (A[0] + A[1] + A[2])/2\n",
    "        print(f\"Diện tích tam giác: {(s*(s-A[0])*(s-A[1])*(s-A[2]))**.5:.1f}\")\n",
    "    else:\n",
    "        n = False\n",
    "if(not n):\n",
    "    print(\"Không phải 3 cạnh của tam giác\")"
   ]
  },
  {
   "cell_type": "markdown",
   "id": "93a26804-d135-4f85-a129-d95ec7047601",
   "metadata": {},
   "source": [
    "<h1>Bài 7</h1>"
   ]
  },
  {
   "cell_type": "code",
   "execution_count": 50,
   "id": "8e9cbb57-a33a-4d91-b450-10e1939b11a4",
   "metadata": {},
   "outputs": [
    {
     "name": "stdin",
     "output_type": "stream",
     "text": [
      "Nhập một chuỗi ký tự dài >= 20 ký tự: 12345678901234567890\n"
     ]
    },
    {
     "name": "stdout",
     "output_type": "stream",
     "text": [
      "Ký tự thứ 5 là 5 và ký tự thứ 9 là 9\n"
     ]
    }
   ],
   "source": [
    "n = input(\"Nhập một chuỗi ký tự dài >= 20 ký tự:\")\n",
    "print(f\"Ký tự thứ 5 là {n[4]} và ký tự thứ 9 là {n[8]}\")"
   ]
  },
  {
   "cell_type": "markdown",
   "id": "0581a324-b2df-426e-9549-8992a3b361f2",
   "metadata": {},
   "source": [
    "<h1>Bài 8</h1>"
   ]
  },
  {
   "cell_type": "code",
   "execution_count": 62,
   "id": "b94dd8d6-6603-4c2b-b303-aa58958354ee",
   "metadata": {},
   "outputs": [
    {
     "name": "stdin",
     "output_type": "stream",
     "text": [
      "Tên chủ hộ: Nguyen Xuan Hai\n",
      "Chỉ số tháng trước: 2000\n",
      "Chỉ số tháng này: 2586\n"
     ]
    },
    {
     "name": "stdout",
     "output_type": "stream",
     "text": [
      "Họ và tên: Nguyen Xuan Hai\n",
      "Tiền phải trả là: 1255634\n"
     ]
    }
   ],
   "source": [
    "name = input(\"Tên chủ hộ:\")\n",
    "pre = int(input(\"Chỉ số tháng trước:\"))\n",
    "cur = int(input(\"Chỉ số tháng này:\"))\n",
    "A = [1984, 2050, 2380, 2998, 3350, 3460]\n",
    "B = [50, 100, 200, 300, 400, 0]\n",
    "c, k = 0, 0\n",
    "for i in range(1, cur-pre+1):\n",
    "    if(i > B[k] and k < 5):\n",
    "        k += 1\n",
    "    c += A[k]\n",
    "print(f\"\"\"Họ và tên: {name}\n",
    "Tiền phải trả là: {c*1.08:.0f}\"\"\")"
   ]
  },
  {
   "cell_type": "markdown",
   "id": "75d3237c-32bd-4c27-8a34-84d8bb088cb0",
   "metadata": {},
   "source": [
    "<h1 style=\"font-size:30pt\">Bài tập khác</h1>"
   ]
  },
  {
   "cell_type": "markdown",
   "id": "bb2fe2f7-f13d-4a6e-b93f-6c9473c30296",
   "metadata": {},
   "source": [
    "<h1>Bài 1</h1>"
   ]
  },
  {
   "cell_type": "code",
   "execution_count": 3,
   "id": "4805a6d3-1cc2-49d5-a306-f9199f128154",
   "metadata": {},
   "outputs": [
    {
     "name": "stdin",
     "output_type": "stream",
     "text": [
      "Nhập 1 số nguyên: -2\n"
     ]
    },
    {
     "name": "stdout",
     "output_type": "stream",
     "text": [
      "Số -2 là số chẵn\n"
     ]
    }
   ],
   "source": [
    "n = int(input(\"Nhập 1 số nguyên:\"))\n",
    "if(n%2==0):\n",
    "    print(f\"Số {n} là số chẵn\")\n",
    "else:\n",
    "    print(f\"Số {n} là số lẻ\")"
   ]
  },
  {
   "cell_type": "markdown",
   "id": "c3b6bc0d-86d8-497c-9e26-1de171f75d27",
   "metadata": {},
   "source": [
    "<h1>Bài 2</h1>"
   ]
  },
  {
   "cell_type": "code",
   "execution_count": 8,
   "id": "1829e835-e9eb-424f-a124-0031644d703c",
   "metadata": {},
   "outputs": [
    {
     "name": "stdin",
     "output_type": "stream",
     "text": [
      "Nhập 1 số nguyên: 15\n"
     ]
    },
    {
     "name": "stdout",
     "output_type": "stream",
     "text": [
      "True\n"
     ]
    }
   ],
   "source": [
    "n = input(\"Nhập 1 số nguyên:\")\n",
    "if(n[-1]==\"5\"):\n",
    "    print(\"True\")\n",
    "else:\n",
    "    print(\"False\")"
   ]
  },
  {
   "cell_type": "markdown",
   "id": "51f60704-d9c3-4cff-8b5a-f8e9662ec11f",
   "metadata": {},
   "source": [
    "<h1>Bài 3</h1>"
   ]
  },
  {
   "cell_type": "code",
   "execution_count": 9,
   "id": "dc309acb-dd27-4484-822a-a2a983a8144e",
   "metadata": {},
   "outputs": [
    {
     "name": "stdin",
     "output_type": "stream",
     "text": [
      "Nhập 1 số nguyên: 30\n"
     ]
    },
    {
     "name": "stdout",
     "output_type": "stream",
     "text": [
      "True\n"
     ]
    }
   ],
   "source": [
    "n = int(input(\"Nhập 1 số nguyên:\"))\n",
    "if(n%3==0 and n%5==0):\n",
    "    print(\"True\")\n",
    "else:\n",
    "    print(\"False\")"
   ]
  },
  {
   "cell_type": "markdown",
   "id": "5b559860-6bc6-4a44-974d-c88f712c8203",
   "metadata": {},
   "source": [
    "<h1>Bài 4</h1>"
   ]
  },
  {
   "cell_type": "code",
   "execution_count": 24,
   "id": "729768a2-13ec-415d-8bc4-f7db06e18180",
   "metadata": {},
   "outputs": [
    {
     "name": "stdin",
     "output_type": "stream",
     "text": [
      "Nhập năm sinh của bạn: 2013\n"
     ]
    },
    {
     "name": "stdout",
     "output_type": "stream",
     "text": [
      "Bạn chưa đủ 18 tuổi để bầu cử\n"
     ]
    }
   ],
   "source": [
    "import datetime\n",
    "\n",
    "n = int(input(\"Nhập năm sinh của bạn:\"))\n",
    "if(datetime.datetime.now().year - n >= 18):\n",
    "    print(\"Bạn đã đủ 18 tuổi để bầu cử\")\n",
    "else:\n",
    "    print(\"Bạn chưa đủ 18 tuổi để bầu cử\")"
   ]
  },
  {
   "cell_type": "markdown",
   "id": "391c59a3-f5f1-4724-9f6e-e52d881e3a1a",
   "metadata": {},
   "source": [
    "<h1>Bài 5</h1>"
   ]
  },
  {
   "cell_type": "code",
   "execution_count": 30,
   "id": "b3c4adda-a8ea-43fc-9894-30ada59c00f4",
   "metadata": {},
   "outputs": [
    {
     "name": "stdin",
     "output_type": "stream",
     "text": [
      "Nhập vào 2 số a, b: -1 2\n"
     ]
    },
    {
     "name": "stdout",
     "output_type": "stream",
     "text": [
      "b lớn hơn a\n"
     ]
    }
   ],
   "source": [
    "a, b = map(float, input(\"Nhập vào 2 số a, b:\").split())\n",
    "if(a>b):\n",
    "    print(f\"a lớn hơn b\")\n",
    "elif(a<b):\n",
    "    print(f\"b lớn hơn a\")\n",
    "else:\n",
    "    print(\"2 số bằng nhau\")"
   ]
  },
  {
   "cell_type": "markdown",
   "id": "b69e9172-c7e7-40c3-b09c-3e26cbc5f8d2",
   "metadata": {},
   "source": [
    "<h1>Bài 6</h1>"
   ]
  },
  {
   "cell_type": "code",
   "execution_count": 46,
   "id": "7265107b-c7b6-4e51-9cee-c6ad6443d180",
   "metadata": {},
   "outputs": [
    {
     "name": "stdin",
     "output_type": "stream",
     "text": [
      "Nhập 1 ký tự: -\n"
     ]
    },
    {
     "name": "stdout",
     "output_type": "stream",
     "text": [
      "Ký tự \"-\" không phải chữ cái hay số\n"
     ]
    }
   ],
   "source": [
    "n = input(\"Nhập 1 ký tự:\")\n",
    "if(65<=ord(n)<=90 or 97<=ord(n)<=122):\n",
    "    print(f'Ký tự \"{n}\" là chữ cái')\n",
    "elif(48<=ord(n)<=57):\n",
    "    print(f'Ký tự \"{n}\" là số')\n",
    "else:\n",
    "    print(f'Ký tự \"{n}\" không phải chữ cái hay số')"
   ]
  },
  {
   "cell_type": "markdown",
   "id": "17b0d138-d081-4afe-a5b2-40020c79980e",
   "metadata": {},
   "source": [
    "<h1>Bài 7</h1>"
   ]
  },
  {
   "cell_type": "code",
   "execution_count": 60,
   "id": "8232db26-bdb7-4f94-b503-ac03b78342b8",
   "metadata": {},
   "outputs": [
    {
     "name": "stdin",
     "output_type": "stream",
     "text": [
      "Nhập điểm học lực: 9.5\n"
     ]
    },
    {
     "name": "stdout",
     "output_type": "stream",
     "text": [
      "Học lực Giỏi\n"
     ]
    }
   ],
   "source": [
    "n = float(input(\"Nhập điểm học lực:\"))\n",
    "A = [5, 6.5, 8, 11]\n",
    "B = [\"Yếu\", \"Trung bình\", \"Khá\", \"Giỏi\"]\n",
    "for i in range(4):\n",
    "    if(A[i] > n):\n",
    "        print(f\"Học lực {B[i]}\")\n",
    "        break"
   ]
  },
  {
   "cell_type": "markdown",
   "id": "e46bbc28-487f-481c-8a27-3b6d6c476537",
   "metadata": {},
   "source": [
    "<h1>Bài 8</h1>"
   ]
  },
  {
   "cell_type": "code",
   "execution_count": 65,
   "id": "4d9ebe1c-fe83-42c5-84f9-6846a196b7c8",
   "metadata": {},
   "outputs": [
    {
     "name": "stdin",
     "output_type": "stream",
     "text": [
      "Nhập năm: 1900\n"
     ]
    },
    {
     "name": "stdout",
     "output_type": "stream",
     "text": [
      "Năm 1900 không phải năm nhuận\n"
     ]
    }
   ],
   "source": [
    "n = int(input(\"Nhập năm:\"))\n",
    "if(n%400==0 or (n%4==0 and n%100!=0)):\n",
    "    print(f\"Năm {n} là năm nhuận\")\n",
    "else:\n",
    "    print(f\"Năm {n} không phải năm nhuận\")"
   ]
  },
  {
   "cell_type": "markdown",
   "id": "7343174a-a766-47ab-8723-fb7262c6927f",
   "metadata": {},
   "source": [
    "<h1>Bài 9</h1>"
   ]
  },
  {
   "cell_type": "code",
   "execution_count": 67,
   "id": "9fda183a-b7bb-406b-b3e6-ee03a98beba8",
   "metadata": {},
   "outputs": [
    {
     "name": "stdin",
     "output_type": "stream",
     "text": [
      "Nhập 1 số từ 0 đến 9: 8\n"
     ]
    },
    {
     "name": "stdout",
     "output_type": "stream",
     "text": [
      "Tám\n"
     ]
    }
   ],
   "source": [
    "n = input(\"Nhập 1 số nguyên từ 0 đến 9:\")\n",
    "A = {\"0\":\"Không\", \"1\":\"Một\", \"2\":\"Hai\", \"3\":\"Ba\", \"4\":\"Bốn\", \"5\":\"Năm\",\n",
    "     \"6\":\"Sáu\", \"7\":\"Bảy\", \"8\":\"Tám\", \"9\":\"Chín\"}\n",
    "print(A[n])"
   ]
  },
  {
   "cell_type": "markdown",
   "id": "9ac7a1f0-d2dc-41d5-844c-a3cce670e9a2",
   "metadata": {},
   "source": [
    "<h1>Bài 10</h1>"
   ]
  },
  {
   "cell_type": "code",
   "execution_count": 68,
   "id": "380c998c-197a-44ed-8859-6f8cb7f7c8f0",
   "metadata": {},
   "outputs": [
    {
     "name": "stdin",
     "output_type": "stream",
     "text": [
      "Nhập điểm thi: 4\n"
     ]
    },
    {
     "name": "stdout",
     "output_type": "stream",
     "text": [
      "Qua môn\n"
     ]
    }
   ],
   "source": [
    "n = float(input(\"Nhập điểm thi:\"))\n",
    "if(n >= 4):\n",
    "    print(\"Qua môn\")\n",
    "else:\n",
    "    print(\"Học lại\")"
   ]
  },
  {
   "cell_type": "markdown",
   "id": "7b3ae87b-6bc6-4cd2-9abe-2a9ba1472f8d",
   "metadata": {},
   "source": [
    "<h1>Bài 11</h1>"
   ]
  },
  {
   "cell_type": "code",
   "execution_count": null,
   "id": "a8efc95a-1ad5-459f-9373-c84b975ba6d3",
   "metadata": {},
   "outputs": [],
   "source": [
    "n = int(input(\"Nhập năm sinh:\"))\n",
    "if(2025 - n >= 18):\n",
    "    print(\"Đủ 18 tuổi\")\n",
    "else:\n",
    "    print(\"Chưa đủ 18 tuổi\")"
   ]
  }
 ],
 "metadata": {
  "kernelspec": {
   "display_name": "Python 3 (ipykernel)",
   "language": "python",
   "name": "python3"
  },
  "language_info": {
   "codemirror_mode": {
    "name": "ipython",
    "version": 3
   },
   "file_extension": ".py",
   "mimetype": "text/x-python",
   "name": "python",
   "nbconvert_exporter": "python",
   "pygments_lexer": "ipython3",
   "version": "3.13.7"
  }
 },
 "nbformat": 4,
 "nbformat_minor": 5
}
