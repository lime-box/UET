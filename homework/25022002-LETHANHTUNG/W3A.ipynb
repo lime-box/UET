{
 "cells": [
  {
   "cell_type": "markdown",
   "id": "52ef36a8-ac21-46bd-aaa9-686520dae493",
   "metadata": {},
   "source": [
    "<h1>W3A2</h1>"
   ]
  },
  {
   "cell_type": "code",
   "execution_count": 5,
   "id": "93b24732-c2d3-4739-9e6c-3aa0520d6e52",
   "metadata": {},
   "outputs": [
    {
     "name": "stdin",
     "output_type": "stream",
     "text": [
      "Nhập 2 số nguyên a, b: -5 7\n"
     ]
    },
    {
     "name": "stdout",
     "output_type": "stream",
     "text": [
      "7 -5\n"
     ]
    }
   ],
   "source": [
    "a, b = map(int, input(\"Nhập 2 số nguyên a, b:\").split())\n",
    "a ^= b\n",
    "b ^= a\n",
    "a ^= b\n",
    "print(a, b)"
   ]
  },
  {
   "cell_type": "markdown",
   "id": "3c4f3861-868c-4f81-a67b-ec0c82b366b0",
   "metadata": {},
   "source": [
    "<h1>W3A3</h1>"
   ]
  },
  {
   "cell_type": "code",
   "execution_count": 1,
   "id": "0a967210-d8db-4db3-a7b1-92e40cebce5e",
   "metadata": {},
   "outputs": [
    {
     "name": "stdin",
     "output_type": "stream",
     "text": [
      "Nhập 1 số nguyên: 4\n"
     ]
    },
    {
     "name": "stdout",
     "output_type": "stream",
     "text": [
      "4 là lũy thừa của 2\n"
     ]
    }
   ],
   "source": [
    "n = c = int(input(\"Nhập 1 số nguyên:\"))\n",
    "k = 0\n",
    "while(c>2):\n",
    "    c>>=1\n",
    "    k+=1\n",
    "if(c==2 and c<<k==n):\n",
    "    print(f\"{n} là lũy thừa của 2\")\n",
    "else:\n",
    "    print(f\"{n} không phải lũy thừa của 2\")"
   ]
  },
  {
   "cell_type": "markdown",
   "id": "b971a6ce-08e5-4d60-82a9-cd40871e669e",
   "metadata": {},
   "source": [
    "<h1>W3A4</h1>"
   ]
  },
  {
   "cell_type": "code",
   "execution_count": 3,
   "id": "2f66b5ed-61c1-45e9-95b9-6bd6c9f10ff9",
   "metadata": {},
   "outputs": [
    {
     "name": "stdin",
     "output_type": "stream",
     "text": [
      "Nhập 2 số m, n: 5 2\n"
     ]
    },
    {
     "name": "stdout",
     "output_type": "stream",
     "text": [
      "5.0 chia 2.0 (làm tròn xuống): 2\n"
     ]
    }
   ],
   "source": [
    "m, n = map(float, input(\"Nhập 2 số m, n:\").split())\n",
    "print(f\"{m} chia {n} (làm tròn xuống): {int(m//n)}\")"
   ]
  },
  {
   "cell_type": "markdown",
   "id": "7981fbd2-3f7a-4a63-b289-9c885f255025",
   "metadata": {},
   "source": [
    "<h1>W3A5</h1>"
   ]
  },
  {
   "cell_type": "code",
   "execution_count": 5,
   "id": "65e13683-d25e-41db-8798-4f31086943d5",
   "metadata": {},
   "outputs": [
    {
     "name": "stdin",
     "output_type": "stream",
     "text": [
      "Nhập 2 số m, n: 5 2\n"
     ]
    },
    {
     "name": "stdout",
     "output_type": "stream",
     "text": [
      "5.0 chia 2.0 (làm tròn lên): 3\n"
     ]
    }
   ],
   "source": [
    "import math\n",
    "m, n = map(float, input(\"Nhập 2 số m, n:\").split())\n",
    "print(f\"{m} chia {n} (làm tròn lên): {math.ceil(m/n)}\")"
   ]
  },
  {
   "cell_type": "markdown",
   "id": "fa56b1d2-6545-48df-899b-cd483057841e",
   "metadata": {},
   "source": [
    "<h1>W3A6</h1>"
   ]
  },
  {
   "cell_type": "code",
   "execution_count": 8,
   "id": "9ea6cd17-32a8-4af2-a886-5e8128449556",
   "metadata": {},
   "outputs": [
    {
     "name": "stdin",
     "output_type": "stream",
     "text": [
      "Nhập số nguyên dương x: 4\n"
     ]
    },
    {
     "name": "stdout",
     "output_type": "stream",
     "text": [
      "4 là số chẵn\n"
     ]
    }
   ],
   "source": [
    "x = int(input(\"Nhập số nguyên dương x:\"))\n",
    "if(x%2 == 0):\n",
    "    print(\"Even\")\n",
    "else:\n",
    "    print(\"Odd\")"
   ]
  },
  {
   "cell_type": "markdown",
   "id": "89af4e8e-c6e8-4e8b-892f-e5680a5ce8b0",
   "metadata": {},
   "source": [
    "<h1>W3A7</h1>"
   ]
  },
  {
   "cell_type": "code",
   "execution_count": 11,
   "id": "268dd7c1-fd84-40c6-b1e2-e1b521fc8208",
   "metadata": {},
   "outputs": [
    {
     "name": "stdin",
     "output_type": "stream",
     "text": [
      "Nhập 2 số nguyên a, b: -4 -5\n"
     ]
    },
    {
     "name": "stdout",
     "output_type": "stream",
     "text": [
      "Yes\n"
     ]
    }
   ],
   "source": [
    "a, b = map(int, input(\"Nhập 2 số nguyên a, b:\").split())\n",
    "if(a<0 and b<0):\n",
    "    print(\"Yes\")\n",
    "else:\n",
    "    print(\"No\")"
   ]
  },
  {
   "cell_type": "markdown",
   "id": "eeec6044-d3d3-4ee2-897a-20a65ac3f170",
   "metadata": {},
   "source": [
    "<h1>W3A8</h1>"
   ]
  },
  {
   "cell_type": "code",
   "execution_count": 12,
   "id": "ad573f50-8a89-4d0e-8a2b-c3beead1a52f",
   "metadata": {},
   "outputs": [
    {
     "name": "stdin",
     "output_type": "stream",
     "text": [
      "Nhập chuỗi ký tự a: fahjdhf\n",
      "Nhập chuỗi ký tự b: fjs\n"
     ]
    },
    {
     "name": "stdout",
     "output_type": "stream",
     "text": [
      "True\n"
     ]
    }
   ],
   "source": [
    "a = input(\"Nhập chuỗi ký tự a:\")\n",
    "b = input(\"Nhập chuỗi ký tự b:\")\n",
    "if(len(a) > len(b)):\n",
    "    print(\"True\")\n",
    "else:\n",
    "    print(\"False\")"
   ]
  },
  {
   "cell_type": "markdown",
   "id": "18dd23f8-e7ea-4816-843d-2b437769c4c2",
   "metadata": {},
   "source": [
    "<h1>W3A9</h1>"
   ]
  },
  {
   "cell_type": "code",
   "execution_count": 19,
   "id": "a8aa9991-d77b-4168-9a0f-4ab2eeb71454",
   "metadata": {},
   "outputs": [
    {
     "name": "stdin",
     "output_type": "stream",
     "text": [
      "Nhập độ dài cạnh a (nguyên dương): 5\n",
      "Nhập độ dài cạnh b (nguyên dương): 3\n",
      "Nhập độ dài cạnh c (nguyên dương): 4\n"
     ]
    },
    {
     "name": "stdout",
     "output_type": "stream",
     "text": [
      "[3.0, 4.0, 5.0]\n",
      "Yes\n"
     ]
    }
   ],
   "source": [
    "N = [\"a\", \"b\", \"c\"]\n",
    "A = []\n",
    "for i in N:\n",
    "    n = float(input(f\"Nhập độ dài cạnh {i} (nguyên dương):\"))\n",
    "    A.append(n)\n",
    "A.sort()\n",
    "if(A[2] < A[0]+A[1]):\n",
    "    print(\"Yes\")\n",
    "else:\n",
    "    print(\"No\")"
   ]
  },
  {
   "cell_type": "markdown",
   "id": "4e235d53-6e8a-4a3c-9876-746b16770f46",
   "metadata": {},
   "source": [
    "<h1>W3A10</h1>"
   ]
  },
  {
   "cell_type": "code",
   "execution_count": 23,
   "id": "eda9f57c-a1ee-42dc-a49a-9b8c7430e2f1",
   "metadata": {},
   "outputs": [
    {
     "name": "stdin",
     "output_type": "stream",
     "text": [
      "Nhập 4 số nguyên: 4 0 -2 7\n"
     ]
    },
    {
     "name": "stdout",
     "output_type": "stream",
     "text": [
      "Số lớn nhất là: 7\n"
     ]
    }
   ],
   "source": [
    "A = list(map(int, input(\"Nhập 4 số nguyên:\").split()))\n",
    "A.sort()\n",
    "print(\"Số lớn nhất là:\", A[-1])"
   ]
  },
  {
   "cell_type": "markdown",
   "id": "1704b2a6-a62f-491c-b080-ed6e7d0eb928",
   "metadata": {},
   "source": [
    "<h1>W3A11</h1>"
   ]
  },
  {
   "cell_type": "code",
   "execution_count": 26,
   "id": "d0d624c0-307d-4e2f-9691-550246e884e3",
   "metadata": {},
   "outputs": [
    {
     "name": "stdin",
     "output_type": "stream",
     "text": [
      "Nhập 3 số nguyên dương: 8 8 8\n"
     ]
    },
    {
     "name": "stdout",
     "output_type": "stream",
     "text": [
      "Tam giác đều\n"
     ]
    }
   ],
   "source": [
    "A = list(map(int, input(\"Nhập 3 số nguyên dương:\").split()))\n",
    "A.sort()\n",
    "if(A[2] >= A[0]+A[1]):\n",
    "    print(\"Không phải tam giác\")\n",
    "else:\n",
    "    if(A[0] == A[1] == A[2]):\n",
    "        print(\"Tam giác đều\")\n",
    "    elif(A[0] == A[1] or A[1] == A[2]):\n",
    "        print(\"Tam giác cân\")\n",
    "    else:\n",
    "        print(\"Tam giác thường\")"
   ]
  },
  {
   "cell_type": "markdown",
   "id": "089a2cdf-c1bf-4708-8a08-f40a179d294a",
   "metadata": {},
   "source": [
    "<h1>W312</h1>"
   ]
  },
  {
   "cell_type": "code",
   "execution_count": 24,
   "id": "aea87021-ed19-4956-9513-aaba9ce6a13c",
   "metadata": {},
   "outputs": [
    {
     "name": "stdin",
     "output_type": "stream",
     "text": [
      "Nhập năm: 2000\n"
     ]
    },
    {
     "name": "stdout",
     "output_type": "stream",
     "text": [
      "Yes\n"
     ]
    }
   ],
   "source": [
    "n = int(input(\"Nhập năm:\"))\n",
    "if(n%400==0 or (n%4==0 and n%100!=0)):\n",
    "    print(\"Yes\")\n",
    "else:\n",
    "    print(\"No\")"
   ]
  },
  {
   "cell_type": "markdown",
   "id": "5ed16617-6f4e-46a4-934d-bac5493f59e0",
   "metadata": {},
   "source": [
    "<h1>W314</h1>"
   ]
  },
  {
   "cell_type": "code",
   "execution_count": 30,
   "id": "d378a060-c540-441f-804d-eb24cd1e93fd",
   "metadata": {},
   "outputs": [
    {
     "name": "stdin",
     "output_type": "stream",
     "text": [
      "Nhập 2 số thực a, b: 0 0\n"
     ]
    },
    {
     "name": "stdout",
     "output_type": "stream",
     "text": [
      "Vô số nghiệm\n"
     ]
    }
   ],
   "source": [
    "a, b = map(float, input(\"Nhập 2 số thực a, b:\").split())\n",
    "if(a == 0):\n",
    "    if(b == 0):\n",
    "        print(\"Vô số nghiệm\")\n",
    "    else:\n",
    "        print(\"Vô nghiệm\")\n",
    "else:\n",
    "    print(f\"{a}x + {b} = 0\")\n",
    "    print(f\"x = {-b/a:.2f}\")"
   ]
  },
  {
   "cell_type": "markdown",
   "id": "53ffbe95-965a-471a-a5c1-1d7cd9a5f22f",
   "metadata": {},
   "source": [
    "<h1>W3A15</h1>"
   ]
  },
  {
   "cell_type": "code",
   "execution_count": 34,
   "id": "8de43a86-6403-4644-bf53-31e409b5a27f",
   "metadata": {},
   "outputs": [
    {
     "name": "stdin",
     "output_type": "stream",
     "text": [
      "Nhập điểm học lực: 8\n"
     ]
    },
    {
     "name": "stdout",
     "output_type": "stream",
     "text": [
      "Học lực Giỏi\n"
     ]
    }
   ],
   "source": [
    "n = float(input(\"Nhập điểm học lực:\"))\n",
    "A = [5, 6.5, 8, 11]\n",
    "B = [\"Yếu\", \"Trung bình\", \"Khá\", \"Giỏi\"]\n",
    "for i in range(4):\n",
    "    if(A[i] > n):\n",
    "        print(f\"Học lực {B[i]}\")\n",
    "        break"
   ]
  },
  {
   "cell_type": "markdown",
   "id": "c4a3586c-4c65-4ffc-a692-593095a0b2f3",
   "metadata": {},
   "source": [
    "<h1>W3A16</h1>"
   ]
  },
  {
   "cell_type": "code",
   "execution_count": 44,
   "id": "d455a67f-f165-408a-8a99-07bb6e8ad4e8",
   "metadata": {},
   "outputs": [
    {
     "name": "stdin",
     "output_type": "stream",
     "text": [
      "Nhập 1 số thực 5.4\n"
     ]
    },
    {
     "name": "stdout",
     "output_type": "stream",
     "text": [
      "6 5 5\n"
     ]
    }
   ],
   "source": [
    "n = float(input(\"Nhập 1 số thực\"))\n",
    "if(n == n//1):\n",
    "    print(int(n), int(n), int(n))\n",
    "else:\n",
    "    c = 0\n",
    "    if(n//1+1-n < n-n//1):\n",
    "        c = n//1+1\n",
    "    else:\n",
    "        c = n//1\n",
    "    print(int(n//1+1), int(n//1), int(c))"
   ]
  },
  {
   "cell_type": "markdown",
   "id": "6d48dd59-3e14-481d-bf87-29e88c785087",
   "metadata": {},
   "source": [
    "<h1>W3A17</h1>"
   ]
  },
  {
   "cell_type": "code",
   "execution_count": 46,
   "id": "f8a2a7cd-caa2-4bd5-87ea-167c4a2d277e",
   "metadata": {},
   "outputs": [
    {
     "name": "stdin",
     "output_type": "stream",
     "text": [
      "Nhập số a, b, c, d: 2 4 8 16\n"
     ]
    },
    {
     "name": "stdout",
     "output_type": "stream",
     "text": [
      "Cấp số nhân công bội nguyên\n"
     ]
    }
   ],
   "source": [
    "a, b, c, d = map(float, input(\"Nhập số a, b, c, d:\").split())\n",
    "if(b%a == 0 and b/a == c/b == d/c):\n",
    "    print(\"Cấp số nhân công bội nguyên\")\n",
    "else:\n",
    "    print(\"Không phải cấp số nhân công bội nguyên\")"
   ]
  }
 ],
 "metadata": {
  "kernelspec": {
   "display_name": "Python 3 (ipykernel)",
   "language": "python",
   "name": "python3"
  },
  "language_info": {
   "codemirror_mode": {
    "name": "ipython",
    "version": 3
   },
   "file_extension": ".py",
   "mimetype": "text/x-python",
   "name": "python",
   "nbconvert_exporter": "python",
   "pygments_lexer": "ipython3",
   "version": "3.13.7"
  }
 },
 "nbformat": 4,
 "nbformat_minor": 5
}
