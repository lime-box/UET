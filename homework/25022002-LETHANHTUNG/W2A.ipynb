{
 "cells": [
  {
   "cell_type": "markdown",
   "id": "62237097-af67-4291-b8dc-bbe6d2ba839f",
   "metadata": {},
   "source": [
    "<h1>W2A1</h1>"
   ]
  },
  {
   "cell_type": "code",
   "execution_count": 1,
   "id": "ca88422d-5390-4bb2-8cbd-839379d594ca",
   "metadata": {},
   "outputs": [
    {
     "name": "stdout",
     "output_type": "stream",
     "text": [
      "Hello World!\n"
     ]
    }
   ],
   "source": [
    "print(\"Hello World!\")"
   ]
  },
  {
   "cell_type": "markdown",
   "id": "8581aafe-d874-4836-8f85-1d3bbfb6e550",
   "metadata": {},
   "source": [
    "<h1>W2A2</h1>"
   ]
  },
  {
   "cell_type": "code",
   "execution_count": 3,
   "id": "73c698c2-80a4-4239-84c5-2aa91c7cdfbb",
   "metadata": {},
   "outputs": [
    {
     "name": "stdin",
     "output_type": "stream",
     "text": [
      "Nhập tên của bạn:  Tùng\n"
     ]
    },
    {
     "name": "stdout",
     "output_type": "stream",
     "text": [
      "Xin chào Tùng\n"
     ]
    }
   ],
   "source": [
    "name = input(\"Nhập tên của bạn: \")\n",
    "print(f\"Xin chào {name}\")"
   ]
  },
  {
   "cell_type": "markdown",
   "id": "07523132-50bc-47c0-9aef-d49b113f363d",
   "metadata": {},
   "source": [
    "<h1>W2A3</h1>"
   ]
  },
  {
   "cell_type": "code",
   "execution_count": 29,
   "id": "ff9b18b7-6a9b-41ed-8b7c-e869c68bd7cc",
   "metadata": {},
   "outputs": [
    {
     "name": "stdin",
     "output_type": "stream",
     "text": [
      "Nhập số nguyên a:  5\n",
      "Nhập số nguyên b:  4\n"
     ]
    },
    {
     "name": "stdout",
     "output_type": "stream",
     "text": [
      "Tổng: 9\n",
      "Hiệu: 1\n",
      "Tích: 20\n",
      "Phần nguyên: 1\n",
      "Phần dư: 1\n",
      "Kết quả chia thực (2 chữ số thập phân): 1.25\n"
     ]
    }
   ],
   "source": [
    "a = int(input(\"Nhập số nguyên a: \"))\n",
    "b = int(input(\"Nhập số nguyên b: \"))\n",
    "print(f\"Tổng: {a + b}\")\n",
    "print(f\"Hiệu: {a - b}\")\n",
    "print(f\"Tích: {a * b}\")\n",
    "print(f\"Phần nguyên: {a // b}\")\n",
    "print(f\"Phần dư: {a % b}\")\n",
    "print(f\"Kết quả chia thực (2 chữ số thập phân): {a / b:.2f}\")"
   ]
  },
  {
   "cell_type": "markdown",
   "id": "c9bd7cbd-4a44-497b-b3f0-c79ec32db32f",
   "metadata": {},
   "source": [
    "<h1>W2A4</h1>"
   ]
  },
  {
   "cell_type": "code",
   "execution_count": 30,
   "id": "a985b2f1-cf6a-4b35-b55f-f42147c74a4d",
   "metadata": {},
   "outputs": [
    {
     "name": "stdin",
     "output_type": "stream",
     "text": [
      "Nhập các đầu điểm:  1 2 3 4 5 6\n"
     ]
    },
    {
     "name": "stdout",
     "output_type": "stream",
     "text": [
      "Điểm trung bình môn: 4.2\n"
     ]
    }
   ],
   "source": [
    "mark = list(map(int, input(\"Nhập các đầu điểm: \").split()))\n",
    "total = 0\n",
    "for i in range(6):\n",
    "    if i < 3:\n",
    "        total += mark[i]\n",
    "    elif i < 5:\n",
    "        total += mark[i]*2\n",
    "    else:\n",
    "        total += mark[i]*3\n",
    "print(f\"Điểm trung bình môn: {total/10:.1f}\")"
   ]
  },
  {
   "cell_type": "markdown",
   "id": "bdc1f6b3-b8ed-4058-9827-dce67a6caafc",
   "metadata": {},
   "source": [
    "<h1>W2A5</h1>"
   ]
  },
  {
   "cell_type": "code",
   "execution_count": 17,
   "id": "3cf19ad2-79bb-4b06-a663-9f0360ed9f23",
   "metadata": {},
   "outputs": [
    {
     "name": "stdin",
     "output_type": "stream",
     "text": [
      "Nhập 2 số nguyên a, b:  2 4\n"
     ]
    },
    {
     "name": "stdout",
     "output_type": "stream",
     "text": [
      "a mũ b: 16\n"
     ]
    }
   ],
   "source": [
    "a, b = map(int, input(\"Nhập 2 số nguyên a, b: \").split())\n",
    "print(f\"a mũ b: {a ** b}\")"
   ]
  },
  {
   "cell_type": "markdown",
   "id": "e3f46d54-f9c9-4366-a7be-e5672bfcff15",
   "metadata": {},
   "source": [
    "<h1>W2A6</h1>"
   ]
  },
  {
   "cell_type": "code",
   "execution_count": 36,
   "id": "05481014-6188-4bc7-960c-4590877c9d35",
   "metadata": {},
   "outputs": [
    {
     "name": "stdin",
     "output_type": "stream",
     "text": [
      "Nhập 1 ký tự từ a đến z:  g\n"
     ]
    },
    {
     "name": "stdout",
     "output_type": "stream",
     "text": [
      "Mã unicode: 103\n",
      "In hoa: G\n"
     ]
    }
   ],
   "source": [
    "digit = input(\"Nhập 1 ký tự từ a đến z: \")\n",
    "print(f\"Mã unicode: {ord(digit)}\")\n",
    "print(f\"In hoa: {chr(ord(digit) - 32)}\")"
   ]
  },
  {
   "cell_type": "markdown",
   "id": "68885e08-20b7-4723-b8a8-d784899eec7c",
   "metadata": {},
   "source": [
    "<h1>W2A7</h1>"
   ]
  },
  {
   "cell_type": "code",
   "execution_count": 28,
   "id": "ba0d6182-7d5b-4b49-8c43-e751456667b8",
   "metadata": {},
   "outputs": [
    {
     "name": "stdout",
     "output_type": "stream",
     "text": [
      "A = ((13 ** 2) * 3) + 5 = 512\n",
      "B = 13 ** 2 * 3 + 5 = 512\n"
     ]
    }
   ],
   "source": [
    "print(f\"A = ((13 ** 2) * 3) + 5 = {((13 ** 2) * 3) + 5}\")\n",
    "print(f\"B = 13 ** 2 * 3 + 5 = {13 ** 2 * 3 + 5}\")"
   ]
  },
  {
   "cell_type": "markdown",
   "id": "4648a0c3-36eb-4f5a-9a38-612a841c795d",
   "metadata": {},
   "source": [
    "<h1>W2A8</h1>"
   ]
  },
  {
   "cell_type": "code",
   "execution_count": 33,
   "id": "585d1b9e-73cc-4630-8b0b-37ae74ac120c",
   "metadata": {},
   "outputs": [
    {
     "name": "stdin",
     "output_type": "stream",
     "text": [
      "Nhập nhiệt độ Celcius:  26\n"
     ]
    },
    {
     "name": "stdout",
     "output_type": "stream",
     "text": [
      "Chuyển thành nhiệt độ Fahrenheit: 78.80\n"
     ]
    }
   ],
   "source": [
    "c = float(input(\"Nhập nhiệt độ Celcius: \"))\n",
    "print(f\"Chuyển thành nhiệt độ Fahrenheit: {9 / 5 * c + 32:.2f}\")"
   ]
  },
  {
   "cell_type": "markdown",
   "id": "476531fe-e425-49f0-a62d-589d183e97a7",
   "metadata": {},
   "source": [
    "<h1>W2A9</h1>"
   ]
  },
  {
   "cell_type": "code",
   "execution_count": 41,
   "id": "807b67ee-236b-42ba-aa9f-ff65301f720a",
   "metadata": {},
   "outputs": [
    {
     "name": "stdin",
     "output_type": "stream",
     "text": [
      "Nhập giá tiền của chiếc đồng hồ: 100\n"
     ]
    },
    {
     "name": "stdout",
     "output_type": "stream",
     "text": [
      "Tổng số tiền phải trả: 150.00\n"
     ]
    }
   ],
   "source": [
    "price = float(input(\"Nhập giá tiền của chiếc đồng hồ:\"))\n",
    "print(f\"Tổng số tiền phải trả: {price * 1.4 + 10:.2f}\")"
   ]
  },
  {
   "cell_type": "markdown",
   "id": "6846da09-555c-4818-93a8-775779f46ed1",
   "metadata": {},
   "source": [
    "<h1>W2A10</h1>"
   ]
  },
  {
   "cell_type": "code",
   "execution_count": 44,
   "id": "ed198822-b5f6-49d0-9acc-d05461e437b1",
   "metadata": {},
   "outputs": [
    {
     "name": "stdin",
     "output_type": "stream",
     "text": [
      "Nhập tên của 3 người bạn:  Bob Alice Helen\n"
     ]
    },
    {
     "name": "stdout",
     "output_type": "stream",
     "text": [
      "Hi Helen, Alice and Bob.\n"
     ]
    }
   ],
   "source": [
    "name = input(\"Nhập tên của 3 người bạn: \").split()\n",
    "print(f\"Hi {name[2]}, {name[1]} and {name[0]}.\")"
   ]
  },
  {
   "cell_type": "markdown",
   "id": "62a3679a-9eef-4dc1-84ff-c177c8933cc7",
   "metadata": {},
   "source": [
    "<h1>W2A11</h1>"
   ]
  },
  {
   "cell_type": "code",
   "execution_count": 54,
   "id": "0cf6bbe2-ca24-4d3d-868c-5bc914bf2014",
   "metadata": {},
   "outputs": [
    {
     "name": "stdin",
     "output_type": "stream",
     "text": [
      "Nhập số giờ và số phút:  5 0\n"
     ]
    },
    {
     "name": "stdout",
     "output_type": "stream",
     "text": [
      "Số giây: 18000\n"
     ]
    }
   ],
   "source": [
    "h, m = map(int, input(\"Nhập số giờ và số phút: \").split())\n",
    "print(f\"Số giây: {h*3600 + m*60}\")"
   ]
  },
  {
   "cell_type": "markdown",
   "id": "f62b4b0f-ba1c-42e1-8f30-7d68a0f42e59",
   "metadata": {},
   "source": [
    "<h1>W2A12</h1>"
   ]
  },
  {
   "cell_type": "code",
   "execution_count": 48,
   "id": "7cee41c0-fdcc-4039-8acb-b63dcb29b316",
   "metadata": {},
   "outputs": [
    {
     "name": "stdin",
     "output_type": "stream",
     "text": [
      "Nhập độ dài cạnh khối Rubik:  3\n"
     ]
    },
    {
     "name": "stdout",
     "output_type": "stream",
     "text": [
      "Số miếng dán riêng lẻ để phủ kín khối Rubik: 54\n"
     ]
    }
   ],
   "source": [
    "side = int(input(\"Nhập độ dài cạnh khối Rubik: \"))\n",
    "print(f\"Số miếng dán riêng lẻ để phủ kín khối Rubik: {side**2*6}\")"
   ]
  },
  {
   "cell_type": "markdown",
   "id": "f65b1af4-54ad-4115-9e86-b986b44659b4",
   "metadata": {},
   "source": [
    "<h1>W2A13</h1>"
   ]
  },
  {
   "cell_type": "code",
   "execution_count": 51,
   "id": "41f5cb98-3280-4b95-877b-83e698fc2956",
   "metadata": {},
   "outputs": [
    {
     "name": "stdin",
     "output_type": "stream",
     "text": [
      "Nhập 2 số nguyên dương a, b:  4 6\n"
     ]
    },
    {
     "name": "stdout",
     "output_type": "stream",
     "text": [
      "Hàng đơn vị của tích của a và b: 4\n"
     ]
    }
   ],
   "source": [
    "a, b = map(int, input(\"Nhập 2 số nguyên dương a, b: \").split())\n",
    "print(f\"Hàng đơn vị của tích của a và b: {str(a*b)[-1]}\")"
   ]
  },
  {
   "cell_type": "markdown",
   "id": "4cc1fd63-63ee-4e59-9177-67e74a8e1f7d",
   "metadata": {},
   "source": [
    "<h1>W2A14</h1>"
   ]
  },
  {
   "cell_type": "code",
   "execution_count": 56,
   "id": "ca787a7a-7683-4bfb-b049-27450fe9382f",
   "metadata": {},
   "outputs": [
    {
     "name": "stdin",
     "output_type": "stream",
     "text": [
      "Nhập 2 giá trị a và b:  lợn gà\n"
     ]
    },
    {
     "name": "stdout",
     "output_type": "stream",
     "text": [
      "Hoán đổi a và b\n",
      "Giá trị a: gà\n",
      "Giá trị b: lợn\n"
     ]
    }
   ],
   "source": [
    "a, b = input(\"Nhập 2 giá trị a và b: \").split()\n",
    "a, b = b, a\n",
    "print(f\"\"\"Hoán đổi a và b\n",
    "Giá trị a: {a}\n",
    "Giá trị b: {b}\"\"\")"
   ]
  },
  {
   "cell_type": "markdown",
   "id": "177bf400-2ee5-4440-88aa-953887d86d60",
   "metadata": {},
   "source": [
    "<h1>W2A15</h1>"
   ]
  },
  {
   "cell_type": "code",
   "execution_count": 62,
   "id": "76636e15-853e-488b-bd82-91325752f3f0",
   "metadata": {},
   "outputs": [
    {
     "name": "stdin",
     "output_type": "stream",
     "text": [
      "Nhập số nguyên dương n:  3\n"
     ]
    },
    {
     "name": "stdout",
     "output_type": "stream",
     "text": [
      "Số sao thứ 3: 37\n"
     ]
    }
   ],
   "source": [
    "n = int(input(\"Nhập số nguyên dương n: \"))\n",
    "print(f\"Số sao thứ {n}: {6*n*(n-1)+1}\")"
   ]
  },
  {
   "cell_type": "markdown",
   "id": "9b8450d3-8692-4242-bde3-e19681e09018",
   "metadata": {},
   "source": [
    "<h1>W2A16</h1>"
   ]
  },
  {
   "cell_type": "code",
   "execution_count": 63,
   "id": "4db1badf-0fc1-419a-a230-0caf2c8c8787",
   "metadata": {},
   "outputs": [
    {
     "name": "stdout",
     "output_type": "stream",
     "text": [
      "Spring\n",
      "Summer\n",
      "Fall\n",
      "Winter\n"
     ]
    }
   ],
   "source": [
    "print(\"\"\"Spring\n",
    "Summer\n",
    "Fall\n",
    "Winter\"\"\")"
   ]
  },
  {
   "cell_type": "markdown",
   "id": "98d00f0a-76d9-4e90-8c89-6a14077ba0c4",
   "metadata": {},
   "source": [
    "<h1>W2A17</h1>"
   ]
  },
  {
   "cell_type": "code",
   "execution_count": 65,
   "id": "ba507d80-69c2-4614-8d28-3de1a121d4d0",
   "metadata": {},
   "outputs": [
    {
     "name": "stdout",
     "output_type": "stream",
     "text": [
      "  *\n",
      " *** \n",
      "*****\n"
     ]
    }
   ],
   "source": [
    "print(\"\"\"  *\n",
    " *** \n",
    "*****\"\"\")"
   ]
  },
  {
   "cell_type": "markdown",
   "id": "fe40c720-d930-40ec-a59c-08be5c4398b9",
   "metadata": {},
   "source": [
    "<h1>W2A18</h1>"
   ]
  },
  {
   "cell_type": "code",
   "execution_count": 67,
   "id": "83496a68-6fb1-4dae-8c32-d098ce0d3a0a",
   "metadata": {},
   "outputs": [
    {
     "name": "stdout",
     "output_type": "stream",
     "text": [
      "### ##   ### ###\n",
      " #  # #   #   #\n",
      " #  #  #  #   #\n",
      " #  # #   #   #\n",
      " #  ##    #   #\n",
      "\n"
     ]
    }
   ],
   "source": [
    "print(\"\"\"### ##   ### ###\n",
    " #  # #   #   #\n",
    " #  #  #  #   #\n",
    " #  # #   #   #\n",
    " #  ##    #   #\n",
    "\"\"\")"
   ]
  },
  {
   "cell_type": "markdown",
   "id": "cacd6b90-e3f5-45cc-829d-1f928f4843ba",
   "metadata": {},
   "source": [
    "<h1>W2A19</h1>"
   ]
  },
  {
   "cell_type": "code",
   "execution_count": 72,
   "id": "1d14b7fb-89a7-46bf-966f-500519b14154",
   "metadata": {},
   "outputs": [
    {
     "name": "stdout",
     "output_type": "stream",
     "text": [
      "Monday\n",
      "Tuesday\n",
      "Wednesday\n",
      "Thursday\n",
      "Friday\n",
      "Saturday\n",
      "Sunday\n"
     ]
    }
   ],
   "source": [
    "print(\"\"\"Monday\n",
    "Tuesday\n",
    "Wednesday\n",
    "Thursday\n",
    "Friday\n",
    "Saturday\n",
    "Sunday\"\"\")"
   ]
  },
  {
   "cell_type": "markdown",
   "id": "bb219c07-a3c1-49ea-ab46-9d99b9cd52d9",
   "metadata": {},
   "source": [
    "<h1>W2A20</h1>"
   ]
  },
  {
   "cell_type": "code",
   "execution_count": 69,
   "id": "7bed03ab-8f21-465a-9a29-b1b2cf601bb9",
   "metadata": {},
   "outputs": [
    {
     "name": "stdout",
     "output_type": "stream",
     "text": [
      "January\n",
      "February\n",
      "March\n",
      "April\n",
      "May\n",
      "June\n",
      "July\n",
      "August\n",
      "September\n",
      "October\n",
      "November\n",
      "December\n"
     ]
    }
   ],
   "source": [
    "print(\"\"\"January\n",
    "February\n",
    "March\n",
    "April\n",
    "May\n",
    "June\n",
    "July\n",
    "August\n",
    "September\n",
    "October\n",
    "November\n",
    "December\"\"\")"
   ]
  },
  {
   "cell_type": "markdown",
   "id": "a29dc1f3-f8a2-4007-8d29-505d971cba4d",
   "metadata": {},
   "source": [
    "<h1>W2A21</h1>"
   ]
  },
  {
   "cell_type": "code",
   "execution_count": 70,
   "id": "be47d8b6-cd28-417e-8212-eae579ced288",
   "metadata": {},
   "outputs": [
    {
     "name": "stdout",
     "output_type": "stream",
     "text": [
      "Hello, world\n",
      "Hello, world\n",
      "Hello, world\n",
      "Hello, world\n",
      "Hello, world\n",
      "Hello, world\n",
      "Hello, world\n",
      "Hello, world\n",
      "Hello, world\n",
      "Hello, world\n"
     ]
    }
   ],
   "source": [
    "for i in range(10):\n",
    "    print(\"Hello, world\")"
   ]
  }
 ],
 "metadata": {
  "kernelspec": {
   "display_name": "Python 3 (ipykernel)",
   "language": "python",
   "name": "python3"
  },
  "language_info": {
   "codemirror_mode": {
    "name": "ipython",
    "version": 3
   },
   "file_extension": ".py",
   "mimetype": "text/x-python",
   "name": "python",
   "nbconvert_exporter": "python",
   "pygments_lexer": "ipython3",
   "version": "3.13.7"
  }
 },
 "nbformat": 4,
 "nbformat_minor": 5
}
