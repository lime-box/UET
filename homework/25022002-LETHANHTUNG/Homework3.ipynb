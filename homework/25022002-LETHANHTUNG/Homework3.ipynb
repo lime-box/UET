{
 "cells": [
  {
   "cell_type": "markdown",
   "id": "58eaed69-86ae-4410-9f79-e055945a768a",
   "metadata": {},
   "source": [
    "<h1>Bài 1</h1>"
   ]
  },
  {
   "cell_type": "code",
   "execution_count": 2,
   "id": "3da62a9d-e463-4322-9b36-f86402143798",
   "metadata": {},
   "outputs": [
    {
     "name": "stdout",
     "output_type": "stream",
     "text": [
      "1 2 3 4 5 6 7 8 9 10 11 12 13 14 15 16 17 18 19 20 21 22 23 24 25 26 27 28 29 30 31 32 33 34 35 36 37 38 39 40 41 42 43 44 45 46 47 48 49 50 51 52 53 54 55 56 57 58 59 60 61 62 63 64 65 66 67 68 69 70 71 72 73 74 75 76 77 78 79 80 81 82 83 84 85 86 87 88 89 90 91 92 93 94 95 96 97 98 99 "
     ]
    }
   ],
   "source": [
    "for i in range(1, 100):\n",
    "    print(i, end=\" \")"
   ]
  },
  {
   "cell_type": "markdown",
   "id": "5f7da350-ea41-4745-a781-a7d056f104c8",
   "metadata": {},
   "source": [
    "<h1>Bài 2</h1>"
   ]
  },
  {
   "cell_type": "code",
   "execution_count": 3,
   "id": "fce06871-5e9c-4588-849e-bea0d4535cf5",
   "metadata": {},
   "outputs": [
    {
     "name": "stdout",
     "output_type": "stream",
     "text": [
      "6 12 18 24 30 36 42 48 54 60 66 72 78 84 90 96 "
     ]
    }
   ],
   "source": [
    "for i in range(6, 100, 6):\n",
    "    print(i, end=\" \")"
   ]
  },
  {
   "cell_type": "markdown",
   "id": "62a0658e-996e-41e6-afc3-03e68ec4ee39",
   "metadata": {},
   "source": [
    "<h1>Bài 3</h1>"
   ]
  },
  {
   "cell_type": "code",
   "execution_count": 28,
   "id": "0c7991fa-694e-4de6-817f-062ba9dabfe5",
   "metadata": {},
   "outputs": [
    {
     "name": "stdin",
     "output_type": "stream",
     "text": [
      "Nhập số nguyên dương a: 9\n"
     ]
    },
    {
     "name": "stdout",
     "output_type": "stream",
     "text": [
      "1 x 1 = 1    2 x 1 = 2    3 x 1 = 3    4 x 1 = 4    5 x 1 = 5    6 x 1 = 6    7 x 1 = 7    8 x 1 = 8    9 x 1 = 9    \n",
      "1 x 2 = 2    2 x 2 = 4    3 x 2 = 6    4 x 2 = 8    5 x 2 = 10   6 x 2 = 12   7 x 2 = 14   8 x 2 = 16   9 x 2 = 18   \n",
      "1 x 3 = 3    2 x 3 = 6    3 x 3 = 9    4 x 3 = 12   5 x 3 = 15   6 x 3 = 18   7 x 3 = 21   8 x 3 = 24   9 x 3 = 27   \n",
      "1 x 4 = 4    2 x 4 = 8    3 x 4 = 12   4 x 4 = 16   5 x 4 = 20   6 x 4 = 24   7 x 4 = 28   8 x 4 = 32   9 x 4 = 36   \n",
      "1 x 5 = 5    2 x 5 = 10   3 x 5 = 15   4 x 5 = 20   5 x 5 = 25   6 x 5 = 30   7 x 5 = 35   8 x 5 = 40   9 x 5 = 45   \n",
      "1 x 6 = 6    2 x 6 = 12   3 x 6 = 18   4 x 6 = 24   5 x 6 = 30   6 x 6 = 36   7 x 6 = 42   8 x 6 = 48   9 x 6 = 54   \n",
      "1 x 7 = 7    2 x 7 = 14   3 x 7 = 21   4 x 7 = 28   5 x 7 = 35   6 x 7 = 42   7 x 7 = 49   8 x 7 = 56   9 x 7 = 63   \n",
      "1 x 8 = 8    2 x 8 = 16   3 x 8 = 24   4 x 8 = 32   5 x 8 = 40   6 x 8 = 48   7 x 8 = 56   8 x 8 = 64   9 x 8 = 72   \n",
      "1 x 9 = 9    2 x 9 = 18   3 x 9 = 27   4 x 9 = 36   5 x 9 = 45   6 x 9 = 54   7 x 9 = 63   8 x 9 = 72   9 x 9 = 81   \n"
     ]
    }
   ],
   "source": [
    "try:\n",
    "    a = int(input(\"Nhập số nguyên dương a:\"))\n",
    "    if(a <= 0):\n",
    "        raise\n",
    "    for i in range(1, a+1):\n",
    "        for k in range(1, a+1):\n",
    "            c = \" \"\n",
    "            c *= (5 - len(str(k*i)))\n",
    "            print(k, \"x\", i, \"=\", k*i, end=c)\n",
    "        print(\"\")\n",
    "except:\n",
    "    print(\"a phải là số nguyên dương\")"
   ]
  },
  {
   "cell_type": "markdown",
   "id": "4cafbec1-10b7-4e1c-b39e-3224180a8a31",
   "metadata": {},
   "source": [
    "<h1>Bài 4</h1>"
   ]
  },
  {
   "cell_type": "code",
   "execution_count": 29,
   "id": "b331906a-64d5-4b42-9eac-459e57a9dfee",
   "metadata": {},
   "outputs": [
    {
     "name": "stdin",
     "output_type": "stream",
     "text": [
      "Nhập số nguyên dương h: 6\n"
     ]
    },
    {
     "name": "stdout",
     "output_type": "stream",
     "text": [
      "     *\n",
      "    * *\n",
      "   *   *\n",
      "  *     *\n",
      " *       *\n",
      "***********\n"
     ]
    }
   ],
   "source": [
    "try:\n",
    "    h = int(input(\"Nhập số nguyên dương h:\"))\n",
    "    if(h <= 0):\n",
    "        raise\n",
    "    for i in range(1, h+1):\n",
    "        if(i == 1):\n",
    "            print(\" \"*(h-i)+\"*\")\n",
    "        elif(i == h):\n",
    "            print(\"*\"*(2*h-1))\n",
    "        else:\n",
    "            print(\" \"*(h-i)+\"*\"+\" \"*(2*(i-1)-1)+\"*\")\n",
    "except:\n",
    "    print(\"h phải là số nguyên dương\")"
   ]
  },
  {
   "cell_type": "markdown",
   "id": "654d511d-e8bc-467c-bc29-4f42f2bd1331",
   "metadata": {},
   "source": [
    "<h1>Bài 5</h1>"
   ]
  },
  {
   "cell_type": "code",
   "execution_count": 30,
   "id": "6b98016f-00ba-4129-a5bd-a8609df272f4",
   "metadata": {},
   "outputs": [
    {
     "name": "stdin",
     "output_type": "stream",
     "text": [
      "Nhập số nguyên dương n: 6\n"
     ]
    },
    {
     "name": "stdout",
     "output_type": "stream",
     "text": [
      "21\n"
     ]
    }
   ],
   "source": [
    "try:\n",
    "    n = int(input(\"Nhập số nguyên dương n:\"))\n",
    "    if(n <= 0):\n",
    "        raise\n",
    "    c = 0\n",
    "    for i in range(1, n+1):\n",
    "        c += i\n",
    "    print(c)\n",
    "except:\n",
    "    print(\"n phải là số nguyên dương\")"
   ]
  },
  {
   "cell_type": "markdown",
   "id": "72f04890-a5bf-4b3f-a87d-ee2c8955549f",
   "metadata": {},
   "source": [
    "<h1>Bài 6</h1>"
   ]
  },
  {
   "cell_type": "code",
   "execution_count": 56,
   "id": "ddacf9c3-081a-4561-b96f-9e823ede5b67",
   "metadata": {},
   "outputs": [
    {
     "name": "stdin",
     "output_type": "stream",
     "text": [
      "Nhập số nguyên dương a: 21\n"
     ]
    },
    {
     "name": "stdout",
     "output_type": "stream",
     "text": [
      "1 3 7 21\n"
     ]
    }
   ],
   "source": [
    "try:\n",
    "    a = int(input(\"Nhập số nguyên dương a:\"))\n",
    "    if(a <= 0):\n",
    "        raise\n",
    "    for i in range(1, a//2+1):\n",
    "        if(a%i == 0):\n",
    "            print(i, end = \" \")\n",
    "    print(str(a))\n",
    "except:\n",
    "    print(\"a phải là số nguyên dương\")"
   ]
  },
  {
   "cell_type": "markdown",
   "id": "d21073bd-26be-49a7-8fdd-98fef30f1b22",
   "metadata": {},
   "source": [
    "<h1>Bài 7</h1>"
   ]
  },
  {
   "cell_type": "code",
   "execution_count": 57,
   "id": "f14df904-b5c4-4a12-889a-49736cdd4866",
   "metadata": {},
   "outputs": [
    {
     "name": "stdin",
     "output_type": "stream",
     "text": [
      "Nhập số nguyên dương a: 21\n"
     ]
    },
    {
     "name": "stdout",
     "output_type": "stream",
     "text": [
      "4\n"
     ]
    }
   ],
   "source": [
    "try:\n",
    "    a = int(input(\"Nhập số nguyên dương a:\"))\n",
    "    if(a <= 0):\n",
    "        raise\n",
    "    c = 2\n",
    "    for i in range(2, a//2+1):\n",
    "        if(a%i == 0):\n",
    "            c += 1\n",
    "    print(c)\n",
    "except:\n",
    "    print(\"a phải là số nguyên dương\")"
   ]
  },
  {
   "cell_type": "markdown",
   "id": "8fc0d7c9-0a3d-4c3c-80ca-c2cbde8a873d",
   "metadata": {},
   "source": [
    "<h1>Bài 8</h1>"
   ]
  },
  {
   "cell_type": "code",
   "execution_count": 59,
   "id": "0531341c-7394-44a6-b41e-a722245fb39b",
   "metadata": {},
   "outputs": [
    {
     "name": "stdin",
     "output_type": "stream",
     "text": [
      "Nhập số nguyên dương a, b: 21 87\n"
     ]
    },
    {
     "name": "stdout",
     "output_type": "stream",
     "text": [
      "1 3 "
     ]
    }
   ],
   "source": [
    "try:\n",
    "    a, b = map(int, input(\"Nhập số nguyên dương a, b:\").split())\n",
    "    if(a <= 0 or b <= 0):\n",
    "        raise\n",
    "    if(a > b):\n",
    "        c = b\n",
    "    else:\n",
    "        c = a\n",
    "    for i in range(1, c+1):\n",
    "        if(a%i == 0 and b%i == 0):\n",
    "            print(i, end=\" \")\n",
    "except:\n",
    "    print(\"a, b phải là số nguyên dương\")"
   ]
  },
  {
   "cell_type": "markdown",
   "id": "495ab3b4-ce32-42d7-8d92-66c436d68647",
   "metadata": {},
   "source": [
    "<h1>Bài 9</h1>"
   ]
  },
  {
   "cell_type": "code",
   "execution_count": 44,
   "id": "eb84c4ec-7d1f-4754-96db-c2defe46062b",
   "metadata": {},
   "outputs": [
    {
     "name": "stdin",
     "output_type": "stream",
     "text": [
      "Nhập số nguyên dương a: 5\n"
     ]
    },
    {
     "name": "stdout",
     "output_type": "stream",
     "text": [
      "5 không phải số chính phương\n"
     ]
    }
   ],
   "source": [
    "try:\n",
    "    a = int(input(\"Nhập số nguyên dương a:\"))\n",
    "    if(a**.5//1 == a**.5):\n",
    "        print(a, \"là số chính phương\")\n",
    "    else:\n",
    "        print(a, \"không phải số chính phương\")\n",
    "except:\n",
    "    print(\"a phải là số nguyên dương\")"
   ]
  },
  {
   "cell_type": "markdown",
   "id": "9af75c45-4072-4ccd-9aa0-76a77988d54a",
   "metadata": {},
   "source": [
    "<h1>Bài 10</h1>"
   ]
  },
  {
   "cell_type": "code",
   "execution_count": 60,
   "id": "b4d08abe-f1b2-4b9d-bb92-8306f47aeb46",
   "metadata": {},
   "outputs": [
    {
     "name": "stdin",
     "output_type": "stream",
     "text": [
      "Nhập số nguyên dương a: 28\n"
     ]
    },
    {
     "name": "stdout",
     "output_type": "stream",
     "text": [
      "28 là số hoàn hảo\n"
     ]
    }
   ],
   "source": [
    "try:\n",
    "    a = int(input(\"Nhập số nguyên dương a:\"))\n",
    "    if(a <= 0):\n",
    "        raise\n",
    "    c = 1\n",
    "    for i in range(2, a//2+1):\n",
    "        if(a%i == 0):\n",
    "            c += i\n",
    "    if(a == c):\n",
    "        print(a, \"là số hoàn hảo\")\n",
    "    else:\n",
    "        print(a, \"không phải số hoàn hảo\")\n",
    "except:\n",
    "    print(\"a phải là số nguyên dương\")"
   ]
  },
  {
   "cell_type": "markdown",
   "id": "bfb6b42c-7778-4a40-9510-dd471cc9fda9",
   "metadata": {},
   "source": [
    "<h1>Bài 11</h1>"
   ]
  },
  {
   "cell_type": "code",
   "execution_count": 54,
   "id": "20ecff47-68ef-4c3c-9016-73ce9bec9615",
   "metadata": {},
   "outputs": [
    {
     "name": "stdin",
     "output_type": "stream",
     "text": [
      "Nhập số nguyên dương: k\n"
     ]
    },
    {
     "name": "stdout",
     "output_type": "stream",
     "text": [
      "Bạn nhập sai quy tắc\n"
     ]
    },
    {
     "name": "stdin",
     "output_type": "stream",
     "text": [
      "Nhập số nguyên dương: p\n"
     ]
    },
    {
     "name": "stdout",
     "output_type": "stream",
     "text": [
      "Bạn nhập sai quy tắc\n"
     ]
    },
    {
     "name": "stdin",
     "output_type": "stream",
     "text": [
      "Nhập số nguyên dương: -2\n"
     ]
    },
    {
     "name": "stdout",
     "output_type": "stream",
     "text": [
      "Bạn nhập sai quy tắc\n"
     ]
    },
    {
     "name": "stdin",
     "output_type": "stream",
     "text": [
      "Nhập số nguyên dương: 4\n"
     ]
    },
    {
     "name": "stdout",
     "output_type": "stream",
     "text": [
      "Bạn nhập đúng quy tắc\n"
     ]
    }
   ],
   "source": [
    "while True:\n",
    "    try:\n",
    "        while True:\n",
    "            a = int(input(\"Nhập số nguyên dương:\"))\n",
    "            if(a < 0):\n",
    "                raise\n",
    "            else:\n",
    "                print(\"Bạn nhập đúng quy tắc\")\n",
    "                break\n",
    "        break\n",
    "    except:\n",
    "        print(\"Bạn nhập sai quy tắc\")"
   ]
  },
  {
   "cell_type": "markdown",
   "id": "66dd22e4-217d-49e4-a12b-af0bd7e597e1",
   "metadata": {},
   "source": [
    "<h1>Bài 12</h1>"
   ]
  },
  {
   "cell_type": "code",
   "execution_count": 72,
   "id": "eafb91a0-e346-45f5-8958-139b40c04d2d",
   "metadata": {},
   "outputs": [
    {
     "name": "stdin",
     "output_type": "stream",
     "text": [
      "Nhập số nguyên dương n: 99\n"
     ]
    },
    {
     "name": "stdout",
     "output_type": "stream",
     "text": [
      "13\n"
     ]
    }
   ],
   "source": [
    "try:\n",
    "    n = int(input(\"Nhập số nguyên dương n:\"))\n",
    "    if(n <= 0):\n",
    "        raise\n",
    "    c, k = 0, 0\n",
    "    while(c < n):\n",
    "        k += 1\n",
    "        c += k\n",
    "    print(k-1)\n",
    "except:\n",
    "    print(\"n phải là số nguyên dương\")"
   ]
  },
  {
   "cell_type": "markdown",
   "id": "95b01d53-de8d-411c-922d-17846c56dee7",
   "metadata": {},
   "source": [
    "<h1>Bài 13</h1>"
   ]
  },
  {
   "cell_type": "code",
   "execution_count": 76,
   "id": "7c39ff0e-a676-4409-b10c-bea732c4f4c1",
   "metadata": {},
   "outputs": [
    {
     "name": "stdin",
     "output_type": "stream",
     "text": [
      "Nhập số nguyên dương n: 7\n"
     ]
    },
    {
     "name": "stdout",
     "output_type": "stream",
     "text": [
      "616\n"
     ]
    }
   ],
   "source": [
    "try:\n",
    "    n = int(input(\"Nhập số nguyên dương n:\"))\n",
    "    if(n <= 0):\n",
    "        raise\n",
    "    c, k = 0, 0\n",
    "    while(c <= n):\n",
    "        k += 1\n",
    "        c += 1/k\n",
    "    print(k)\n",
    "except:\n",
    "    print(\"n phải là số nguyên dương\")"
   ]
  },
  {
   "cell_type": "markdown",
   "id": "26bb1deb-4393-447b-86bb-fe722970e229",
   "metadata": {},
   "source": [
    "<h1>Bài 14</h1>"
   ]
  },
  {
   "cell_type": "code",
   "execution_count": 4,
   "id": "416e9208-1d72-480f-9b9e-df6b997888fd",
   "metadata": {},
   "outputs": [
    {
     "name": "stdin",
     "output_type": "stream",
     "text": [
      "Nhập số nguyên dương: 7\n",
      "Nhập số nguyên dương: 8\n",
      "Nhập số nguyên dương: .9\n"
     ]
    },
    {
     "name": "stdout",
     "output_type": "stream",
     "text": [
      "Bạn nhập sai quy tắc\n"
     ]
    },
    {
     "name": "stdin",
     "output_type": "stream",
     "text": [
      "Nhập số nguyên dương: -9.99\n"
     ]
    },
    {
     "name": "stdout",
     "output_type": "stream",
     "text": [
      "Bạn nhập sai quy tắc\n"
     ]
    },
    {
     "name": "stdin",
     "output_type": "stream",
     "text": [
      "Nhập số nguyên dương: -1\n"
     ]
    },
    {
     "name": "stdout",
     "output_type": "stream",
     "text": [
      "Số lớn nhất: 8 \n",
      "Số nhỏ nhất: -1\n"
     ]
    }
   ],
   "source": [
    "n = \"\"\n",
    "mx, mn = .1, .1\n",
    "while True:\n",
    "    try:\n",
    "        n = int(input(\"Nhập số nguyên dương:\"))\n",
    "        if(n > mx):\n",
    "            mx = n\n",
    "        if(n < mn):\n",
    "            mn = n\n",
    "        if(n == -1):\n",
    "            print(\"Số lớn nhất:\", mx, \"\\n\" + \"Số nhỏ nhất:\", mn) \n",
    "            break\n",
    "    except:\n",
    "        print(\"Bạn nhập sai quy tắc\")"
   ]
  },
  {
   "cell_type": "markdown",
   "id": "dba303c1-760c-47ab-a473-14183b366b51",
   "metadata": {},
   "source": [
    "<h1>Bài 15 (cách 1)</h1>"
   ]
  },
  {
   "cell_type": "code",
   "execution_count": 6,
   "id": "5b2637db-bba6-4d8c-a2aa-7547c94ec0a4",
   "metadata": {},
   "outputs": [
    {
     "name": "stdin",
     "output_type": "stream",
     "text": [
      "Nhập số nguyên dương n: 987\n"
     ]
    },
    {
     "name": "stdout",
     "output_type": "stream",
     "text": [
      "3\n"
     ]
    }
   ],
   "source": [
    "try:\n",
    "    n = int(input(\"Nhập số nguyên dương n:\"))\n",
    "    if(n <= 0):\n",
    "        raise\n",
    "    print(len(str(n)))\n",
    "except:\n",
    "    print(\"n phải là số nguyên dương\")"
   ]
  },
  {
   "cell_type": "markdown",
   "id": "fec19780-9399-4922-baf9-9cd3a579727f",
   "metadata": {},
   "source": [
    "<h1>Bài 15 (cách 2)</h1>"
   ]
  },
  {
   "cell_type": "code",
   "execution_count": 8,
   "id": "18996b17-7ba1-4475-b33e-f4d1a19664bd",
   "metadata": {},
   "outputs": [
    {
     "name": "stdin",
     "output_type": "stream",
     "text": [
      "Nhập số nguyên dương n: 8736\n"
     ]
    },
    {
     "name": "stdout",
     "output_type": "stream",
     "text": [
      "4\n"
     ]
    }
   ],
   "source": [
    "try:\n",
    "    n = int(input(\"Nhập số nguyên dương n:\"))\n",
    "    if(n <= 0):\n",
    "        raise\n",
    "    k = 0\n",
    "    while n/10**k>1:\n",
    "        k += 1\n",
    "    print(k)\n",
    "except:\n",
    "    print(\"n phải là số nguyên dương\")"
   ]
  },
  {
   "cell_type": "markdown",
   "id": "c8e6a976-9303-4171-a5b5-9522f4cc4a62",
   "metadata": {},
   "source": [
    "<h1>Bài 15 (cách 3)</h1>"
   ]
  },
  {
   "cell_type": "code",
   "execution_count": 26,
   "id": "2131e2e1-be97-4bc6-9a2f-05960c2a0d02",
   "metadata": {},
   "outputs": [
    {
     "name": "stdin",
     "output_type": "stream",
     "text": [
      "Nhập số nguyên dương n: 2173812\n"
     ]
    },
    {
     "name": "stdout",
     "output_type": "stream",
     "text": [
      "7\n"
     ]
    }
   ],
   "source": [
    "try:\n",
    "    n = int(input(\"Nhập số nguyên dương n:\"))\n",
    "    if(n <= 0):\n",
    "        raise\n",
    "    n = str(n)\n",
    "    c = 0\n",
    "    for i in n:\n",
    "        c += 1\n",
    "    print(c)\n",
    "except:\n",
    "    print(\"n phải là số nguyên dương\")"
   ]
  },
  {
   "cell_type": "markdown",
   "id": "7c9ca09a-af59-4c6b-8fce-5760f036c47a",
   "metadata": {},
   "source": [
    "<h1>Bài 16</h1>"
   ]
  },
  {
   "cell_type": "code",
   "execution_count": 27,
   "id": "0bb4687d-f170-42fd-ac7d-0d4c56a86b2b",
   "metadata": {},
   "outputs": [
    {
     "name": "stdin",
     "output_type": "stream",
     "text": [
      "Nhập số nguyên dương n: 52775829048\n"
     ]
    },
    {
     "name": "stdout",
     "output_type": "stream",
     "text": [
      "Số chữ số chẵn: 6 \n",
      "Số chữ số lẻ: 5\n"
     ]
    }
   ],
   "source": [
    "try:\n",
    "    n = int(input(\"Nhập số nguyên dương n:\"))\n",
    "    if(n <= 0):\n",
    "        raise\n",
    "    n = str(n)\n",
    "    odd, even = 0, 0\n",
    "    for i in n:\n",
    "        if(int(i)%2 == 0):\n",
    "            even += 1\n",
    "        else:\n",
    "            odd += 1\n",
    "    print(\"Số chữ số chẵn:\", even, \"\\n\" + \"Số chữ số lẻ:\", odd)\n",
    "except:\n",
    "    print(\"n phải là số nguyên dương\")"
   ]
  },
  {
   "cell_type": "markdown",
   "id": "24015231-6f29-4347-8736-8a3848728d3b",
   "metadata": {},
   "source": [
    "<h1>Bài 17</h1>"
   ]
  },
  {
   "cell_type": "code",
   "execution_count": 28,
   "id": "8498aed9-55d3-4ff6-a500-39a29b396296",
   "metadata": {},
   "outputs": [
    {
     "name": "stdin",
     "output_type": "stream",
     "text": [
      "Nhập số nguyên dương n: 7892754920\n"
     ]
    },
    {
     "name": "stdout",
     "output_type": "stream",
     "text": [
      "53\n"
     ]
    }
   ],
   "source": [
    "try:\n",
    "    n = int(input(\"Nhập số nguyên dương n:\"))\n",
    "    if(n <= 0):\n",
    "        raise\n",
    "    n = str(n)\n",
    "    c = 0\n",
    "    for i in n:\n",
    "        c += int(i)\n",
    "    print(c)\n",
    "except:\n",
    "    print(\"n phải là số nguyên dương\")"
   ]
  },
  {
   "cell_type": "markdown",
   "id": "1684398c-0b30-405b-8dd7-8f11519c8fb2",
   "metadata": {},
   "source": [
    "<h1>Bài 18</h1>"
   ]
  },
  {
   "cell_type": "code",
   "execution_count": 29,
   "id": "ac31f118-52c4-4531-850e-33e8feff72bd",
   "metadata": {},
   "outputs": [
    {
     "name": "stdin",
     "output_type": "stream",
     "text": [
      "Nhập số nguyên dương n: 59049\n"
     ]
    },
    {
     "name": "stdout",
     "output_type": "stream",
     "text": [
      "59049 = 3^10\n"
     ]
    }
   ],
   "source": [
    "try:\n",
    "    n = int(input(\"Nhập số nguyên dương n:\"))\n",
    "    if(n <= 0):\n",
    "        raise\n",
    "    c = n\n",
    "    k = 1\n",
    "    while(c//1 == c and c > 3):\n",
    "        c /= 3\n",
    "        k += 1\n",
    "    if(c == 3):\n",
    "        print(f\"{n} = 3^{k}\")\n",
    "    else:\n",
    "        print(n, \"không thuộc dạng 3^k\")\n",
    "except:\n",
    "    print(\"n phải là số nguyên dương\")"
   ]
  },
  {
   "cell_type": "markdown",
   "id": "b6d0c0f1-5764-4be5-a448-4eb837c344e4",
   "metadata": {},
   "source": [
    "<h1>Bài 19</h1>"
   ]
  },
  {
   "cell_type": "code",
   "execution_count": 31,
   "id": "be1599c8-9a76-4273-854e-98675b3e3590",
   "metadata": {},
   "outputs": [
    {
     "name": "stdin",
     "output_type": "stream",
     "text": [
      "Nhập số nguyên dương n: 99\n"
     ]
    },
    {
     "name": "stdout",
     "output_type": "stream",
     "text": [
      "89\n"
     ]
    }
   ],
   "source": [
    "try:\n",
    "    n = int(input(\"Nhập số nguyên dương n:\"))\n",
    "    if(n <= 0):\n",
    "        raise\n",
    "    c, k = 1, 1\n",
    "    while(k <= n):\n",
    "        c, k = k, c+k\n",
    "    print(c)\n",
    "except:\n",
    "    print(\"n phải là số nguyên dương\")"
   ]
  },
  {
   "cell_type": "markdown",
   "id": "6a79dc3b-deec-43cb-89da-c70e26005a40",
   "metadata": {},
   "source": [
    "<h1>Bài 20</h1>"
   ]
  },
  {
   "cell_type": "code",
   "execution_count": 53,
   "id": "b7df9133-58e9-4bae-94f2-7f320d07e137",
   "metadata": {},
   "outputs": [
    {
     "name": "stdin",
     "output_type": "stream",
     "text": [
      "Nhập số nguyên dương n: 5825708312\n"
     ]
    },
    {
     "name": "stdout",
     "output_type": "stream",
     "text": [
      "6\n"
     ]
    }
   ],
   "source": [
    "try:\n",
    "    n = int(input(\"Nhập số nguyên dương n:\"))\n",
    "    if(n <= 0):\n",
    "        raise\n",
    "    n = str(n)\n",
    "    c = 0\n",
    "    for i in n:\n",
    "        if(int(i) == 2):\n",
    "            c += 1\n",
    "        for k in range(2, int(i)):\n",
    "            if(int(i)%k == 0):\n",
    "                break\n",
    "            if(k == int(i)-1):\n",
    "                c += 1\n",
    "    print(c)\n",
    "except:\n",
    "    print(\"n phải là số nguyên dương\")"
   ]
  }
 ],
 "metadata": {
  "kernelspec": {
   "display_name": "Python 3 (ipykernel)",
   "language": "python",
   "name": "python3"
  },
  "language_info": {
   "codemirror_mode": {
    "name": "ipython",
    "version": 3
   },
   "file_extension": ".py",
   "mimetype": "text/x-python",
   "name": "python",
   "nbconvert_exporter": "python",
   "pygments_lexer": "ipython3",
   "version": "3.13.7"
  }
 },
 "nbformat": 4,
 "nbformat_minor": 5
}
